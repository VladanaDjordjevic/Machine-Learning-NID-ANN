{
 "cells": [
  {
   "cell_type": "markdown",
   "metadata": {},
   "source": [
    "# Binarna klasifikacija uz PCA dekompoziciju podataka"
   ]
  },
  {
   "cell_type": "code",
   "execution_count": 1,
   "metadata": {},
   "outputs": [
    {
     "name": "stderr",
     "output_type": "stream",
     "text": [
      "Using TensorFlow backend.\n"
     ]
    }
   ],
   "source": [
    "import numpy as np\n",
    "import pandas as pd\n",
    "from tensorflow import keras\n",
    "\n",
    "import tensorflow as tf\n",
    "\n",
    "from keras.models import Sequential\n",
    "from keras.layers import Dense\n",
    "from keras.optimizers import Adam\n",
    "from keras import losses, optimizers\n",
    "\n",
    "from matplotlib import pyplot as plt\n",
    "\n",
    "from sklearn import preprocessing\n",
    "from sklearn import datasets\n",
    "from sklearn import model_selection\n",
    "\n",
    "import category_encoders as ce\n",
    "from keras.callbacks import TensorBoard\n",
    "import imblearn\n",
    "\n",
    "from sklearn.decomposition import PCA\n",
    "\n",
    "np.random.seed(10)"
   ]
  },
  {
   "cell_type": "code",
   "execution_count": 2,
   "metadata": {},
   "outputs": [
    {
     "data": {
      "text/html": [
       "<div>\n",
       "<style scoped>\n",
       "    .dataframe tbody tr th:only-of-type {\n",
       "        vertical-align: middle;\n",
       "    }\n",
       "\n",
       "    .dataframe tbody tr th {\n",
       "        vertical-align: top;\n",
       "    }\n",
       "\n",
       "    .dataframe thead th {\n",
       "        text-align: right;\n",
       "    }\n",
       "</style>\n",
       "<table border=\"1\" class=\"dataframe\">\n",
       "  <thead>\n",
       "    <tr style=\"text-align: right;\">\n",
       "      <th></th>\n",
       "      <th>duration</th>\n",
       "      <th>protocol_type</th>\n",
       "      <th>service</th>\n",
       "      <th>flag</th>\n",
       "      <th>src_bytes</th>\n",
       "      <th>dst_bytes</th>\n",
       "      <th>land</th>\n",
       "      <th>wrong_fragment</th>\n",
       "      <th>urgent</th>\n",
       "      <th>hot</th>\n",
       "      <th>...</th>\n",
       "      <th>dst_host_srv_count</th>\n",
       "      <th>dst_host_same_srv_rate</th>\n",
       "      <th>dst_host_diff_srv_rate</th>\n",
       "      <th>dst_host_same_src_port_rate</th>\n",
       "      <th>dst_host_srv_diff_host_rate</th>\n",
       "      <th>dst_host_serror_rate</th>\n",
       "      <th>dst_host_srv_serror_rate</th>\n",
       "      <th>dst_host_rerror_rate</th>\n",
       "      <th>dst_host_srv_rerror_rate</th>\n",
       "      <th>class</th>\n",
       "    </tr>\n",
       "  </thead>\n",
       "  <tbody>\n",
       "    <tr>\n",
       "      <th>0</th>\n",
       "      <td>0</td>\n",
       "      <td>tcp</td>\n",
       "      <td>http</td>\n",
       "      <td>SF</td>\n",
       "      <td>181</td>\n",
       "      <td>5450</td>\n",
       "      <td>0</td>\n",
       "      <td>0</td>\n",
       "      <td>0</td>\n",
       "      <td>0</td>\n",
       "      <td>...</td>\n",
       "      <td>9</td>\n",
       "      <td>1.0</td>\n",
       "      <td>0.0</td>\n",
       "      <td>0.11</td>\n",
       "      <td>0.0</td>\n",
       "      <td>0.0</td>\n",
       "      <td>0.0</td>\n",
       "      <td>0.0</td>\n",
       "      <td>0.0</td>\n",
       "      <td>normal.</td>\n",
       "    </tr>\n",
       "    <tr>\n",
       "      <th>1</th>\n",
       "      <td>0</td>\n",
       "      <td>tcp</td>\n",
       "      <td>http</td>\n",
       "      <td>SF</td>\n",
       "      <td>239</td>\n",
       "      <td>486</td>\n",
       "      <td>0</td>\n",
       "      <td>0</td>\n",
       "      <td>0</td>\n",
       "      <td>0</td>\n",
       "      <td>...</td>\n",
       "      <td>19</td>\n",
       "      <td>1.0</td>\n",
       "      <td>0.0</td>\n",
       "      <td>0.05</td>\n",
       "      <td>0.0</td>\n",
       "      <td>0.0</td>\n",
       "      <td>0.0</td>\n",
       "      <td>0.0</td>\n",
       "      <td>0.0</td>\n",
       "      <td>normal.</td>\n",
       "    </tr>\n",
       "    <tr>\n",
       "      <th>2</th>\n",
       "      <td>0</td>\n",
       "      <td>tcp</td>\n",
       "      <td>http</td>\n",
       "      <td>SF</td>\n",
       "      <td>235</td>\n",
       "      <td>1337</td>\n",
       "      <td>0</td>\n",
       "      <td>0</td>\n",
       "      <td>0</td>\n",
       "      <td>0</td>\n",
       "      <td>...</td>\n",
       "      <td>29</td>\n",
       "      <td>1.0</td>\n",
       "      <td>0.0</td>\n",
       "      <td>0.03</td>\n",
       "      <td>0.0</td>\n",
       "      <td>0.0</td>\n",
       "      <td>0.0</td>\n",
       "      <td>0.0</td>\n",
       "      <td>0.0</td>\n",
       "      <td>normal.</td>\n",
       "    </tr>\n",
       "    <tr>\n",
       "      <th>3</th>\n",
       "      <td>0</td>\n",
       "      <td>tcp</td>\n",
       "      <td>http</td>\n",
       "      <td>SF</td>\n",
       "      <td>219</td>\n",
       "      <td>1337</td>\n",
       "      <td>0</td>\n",
       "      <td>0</td>\n",
       "      <td>0</td>\n",
       "      <td>0</td>\n",
       "      <td>...</td>\n",
       "      <td>39</td>\n",
       "      <td>1.0</td>\n",
       "      <td>0.0</td>\n",
       "      <td>0.03</td>\n",
       "      <td>0.0</td>\n",
       "      <td>0.0</td>\n",
       "      <td>0.0</td>\n",
       "      <td>0.0</td>\n",
       "      <td>0.0</td>\n",
       "      <td>normal.</td>\n",
       "    </tr>\n",
       "    <tr>\n",
       "      <th>4</th>\n",
       "      <td>0</td>\n",
       "      <td>tcp</td>\n",
       "      <td>http</td>\n",
       "      <td>SF</td>\n",
       "      <td>217</td>\n",
       "      <td>2032</td>\n",
       "      <td>0</td>\n",
       "      <td>0</td>\n",
       "      <td>0</td>\n",
       "      <td>0</td>\n",
       "      <td>...</td>\n",
       "      <td>49</td>\n",
       "      <td>1.0</td>\n",
       "      <td>0.0</td>\n",
       "      <td>0.02</td>\n",
       "      <td>0.0</td>\n",
       "      <td>0.0</td>\n",
       "      <td>0.0</td>\n",
       "      <td>0.0</td>\n",
       "      <td>0.0</td>\n",
       "      <td>normal.</td>\n",
       "    </tr>\n",
       "  </tbody>\n",
       "</table>\n",
       "<p>5 rows × 42 columns</p>\n",
       "</div>"
      ],
      "text/plain": [
       "   duration protocol_type service flag  src_bytes  dst_bytes  land  \\\n",
       "0         0           tcp    http   SF        181       5450     0   \n",
       "1         0           tcp    http   SF        239        486     0   \n",
       "2         0           tcp    http   SF        235       1337     0   \n",
       "3         0           tcp    http   SF        219       1337     0   \n",
       "4         0           tcp    http   SF        217       2032     0   \n",
       "\n",
       "   wrong_fragment  urgent  hot  ...  dst_host_srv_count  \\\n",
       "0               0       0    0  ...                   9   \n",
       "1               0       0    0  ...                  19   \n",
       "2               0       0    0  ...                  29   \n",
       "3               0       0    0  ...                  39   \n",
       "4               0       0    0  ...                  49   \n",
       "\n",
       "   dst_host_same_srv_rate  dst_host_diff_srv_rate  \\\n",
       "0                     1.0                     0.0   \n",
       "1                     1.0                     0.0   \n",
       "2                     1.0                     0.0   \n",
       "3                     1.0                     0.0   \n",
       "4                     1.0                     0.0   \n",
       "\n",
       "   dst_host_same_src_port_rate  dst_host_srv_diff_host_rate  \\\n",
       "0                         0.11                          0.0   \n",
       "1                         0.05                          0.0   \n",
       "2                         0.03                          0.0   \n",
       "3                         0.03                          0.0   \n",
       "4                         0.02                          0.0   \n",
       "\n",
       "   dst_host_serror_rate  dst_host_srv_serror_rate  dst_host_rerror_rate  \\\n",
       "0                   0.0                       0.0                   0.0   \n",
       "1                   0.0                       0.0                   0.0   \n",
       "2                   0.0                       0.0                   0.0   \n",
       "3                   0.0                       0.0                   0.0   \n",
       "4                   0.0                       0.0                   0.0   \n",
       "\n",
       "   dst_host_srv_rerror_rate    class  \n",
       "0                       0.0  normal.  \n",
       "1                       0.0  normal.  \n",
       "2                       0.0  normal.  \n",
       "3                       0.0  normal.  \n",
       "4                       0.0  normal.  \n",
       "\n",
       "[5 rows x 42 columns]"
      ]
     },
     "execution_count": 2,
     "metadata": {},
     "output_type": "execute_result"
    }
   ],
   "source": [
    "data = pd.read_csv('kddcup.csv.data_10_percent_corrected')\n",
    "\n",
    "data.head()"
   ]
  },
  {
   "cell_type": "markdown",
   "metadata": {},
   "source": [
    "U svesci Provera reprezentativnosti uzorka + informacije o podacima, saznali smo da atributi 'num_outbound_cmds' i 'is_host_login' imaju sve 0, samim tim, nisu od znacaja za ucenje naseg modela pa se izbacuju."
   ]
  },
  {
   "cell_type": "code",
   "execution_count": 3,
   "metadata": {},
   "outputs": [],
   "source": [
    "data.drop(columns = ['num_outbound_cmds', 'is_host_login'], axis = 1, inplace = True)"
   ]
  },
  {
   "cell_type": "code",
   "execution_count": 4,
   "metadata": {},
   "outputs": [
    {
     "data": {
      "text/plain": [
       "array([ 97278, 396743])"
      ]
     },
     "execution_count": 4,
     "metadata": {},
     "output_type": "execute_result"
    }
   ],
   "source": [
    "y = data['class']\n",
    "\n",
    "y = [instance!='normal.' for instance in y]\n",
    "\n",
    "np.bincount(y)"
   ]
  },
  {
   "cell_type": "code",
   "execution_count": 5,
   "metadata": {},
   "outputs": [],
   "source": [
    "encoder = ce.BinaryEncoder(data, cols = ['protocol_type', 'service', 'flag'])\n",
    "X = encoder.fit_transform(data)\n",
    "\n",
    "X = X.drop(columns = ['class'], axis = 1)"
   ]
  },
  {
   "cell_type": "code",
   "execution_count": 6,
   "metadata": {},
   "outputs": [],
   "source": [
    "X_train, X_test, y_train, y_test = model_selection.train_test_split(X, y, test_size=0.33, stratify=y, random_state=7)"
   ]
  },
  {
   "cell_type": "code",
   "execution_count": 7,
   "metadata": {},
   "outputs": [
    {
     "data": {
      "text/plain": [
       "(330994, 52)"
      ]
     },
     "execution_count": 7,
     "metadata": {},
     "output_type": "execute_result"
    }
   ],
   "source": [
    "X_train.shape"
   ]
  },
  {
   "cell_type": "code",
   "execution_count": 8,
   "metadata": {},
   "outputs": [
    {
     "data": {
      "text/plain": [
       "(163027, 52)"
      ]
     },
     "execution_count": 8,
     "metadata": {},
     "output_type": "execute_result"
    }
   ],
   "source": [
    "X_test.shape"
   ]
  },
  {
   "cell_type": "code",
   "execution_count": 9,
   "metadata": {},
   "outputs": [
    {
     "data": {
      "text/plain": [
       "array([ 65176, 265818])"
      ]
     },
     "execution_count": 9,
     "metadata": {},
     "output_type": "execute_result"
    }
   ],
   "source": [
    "np.bincount(y_train)"
   ]
  },
  {
   "cell_type": "code",
   "execution_count": 10,
   "metadata": {},
   "outputs": [],
   "source": [
    "scaler = preprocessing.StandardScaler()\n",
    "scaler.fit(X_train)\n",
    "X_train = scaler.transform(X_train)\n",
    "X_test = scaler.transform(X_test)"
   ]
  },
  {
   "cell_type": "code",
   "execution_count": 11,
   "metadata": {},
   "outputs": [],
   "source": [
    "pca = PCA(n_components=15)\n",
    "pca.fit(X_train, y_train)\n",
    "X_train_pca = pca.transform(X_train)\n",
    "X_test_pca = pca.transform(X_test)"
   ]
  },
  {
   "cell_type": "code",
   "execution_count": 12,
   "metadata": {},
   "outputs": [],
   "source": [
    "model = Sequential()\n",
    "model.add(Dense(units=150, input_dim=X_train_pca.shape[1], activation='relu'))\n",
    "model.add(Dense(units=50, activation='relu'))\n",
    "model.add(Dense(units=1, activation='sigmoid'))"
   ]
  },
  {
   "cell_type": "code",
   "execution_count": 13,
   "metadata": {},
   "outputs": [],
   "source": [
    "model.compile(optimizers.Adam(learning_rate = 0.0001), loss=losses.BinaryCrossentropy(), metrics=['accuracy'])"
   ]
  },
  {
   "cell_type": "code",
   "execution_count": 14,
   "metadata": {},
   "outputs": [
    {
     "name": "stdout",
     "output_type": "stream",
     "text": [
      "Train on 264795 samples, validate on 66199 samples\n",
      "Epoch 1/50\n",
      "264795/264795 [==============================] - 117s 441us/step - loss: 0.0335 - accuracy: 0.9926 - val_loss: 0.0096 - val_accuracy: 0.9972\n",
      "Epoch 2/50\n",
      "264795/264795 [==============================] - 127s 481us/step - loss: 0.0076 - accuracy: 0.9981 - val_loss: 0.0071 - val_accuracy: 0.9981\n",
      "Epoch 3/50\n",
      "264795/264795 [==============================] - 111s 418us/step - loss: 0.0063 - accuracy: 0.9985 - val_loss: 0.0078 - val_accuracy: 0.9983\n",
      "Epoch 4/50\n",
      "264795/264795 [==============================] - 129s 486us/step - loss: 0.0057 - accuracy: 0.9987 - val_loss: 0.0058 - val_accuracy: 0.9984\n",
      "Epoch 5/50\n",
      "264795/264795 [==============================] - 134s 507us/step - loss: 0.0054 - accuracy: 0.9988 - val_loss: 0.0068 - val_accuracy: 0.9985\n",
      "Epoch 6/50\n",
      "264795/264795 [==============================] - 90s 338us/step - loss: 0.0050 - accuracy: 0.9989 - val_loss: 0.0067 - val_accuracy: 0.9986\n",
      "Epoch 7/50\n",
      "264795/264795 [==============================] - 78s 295us/step - loss: 0.0046 - accuracy: 0.9989 - val_loss: 0.0065 - val_accuracy: 0.9987\n",
      "Epoch 8/50\n",
      "264795/264795 [==============================] - 76s 286us/step - loss: 0.0043 - accuracy: 0.9989 - val_loss: 0.0065 - val_accuracy: 0.9988\n",
      "Epoch 9/50\n",
      "264795/264795 [==============================] - 79s 300us/step - loss: 0.0041 - accuracy: 0.9989 - val_loss: 0.0060 - val_accuracy: 0.9988\n",
      "Epoch 10/50\n",
      "264795/264795 [==============================] - 111s 418us/step - loss: 0.0039 - accuracy: 0.9990 - val_loss: 0.0062 - val_accuracy: 0.9987\n",
      "Epoch 11/50\n",
      "264795/264795 [==============================] - 138s 521us/step - loss: 0.0039 - accuracy: 0.9990 - val_loss: 0.0065 - val_accuracy: 0.9987\n",
      "Epoch 12/50\n",
      "264795/264795 [==============================] - 137s 516us/step - loss: 0.0036 - accuracy: 0.9990 - val_loss: 0.0066 - val_accuracy: 0.9988\n",
      "Epoch 13/50\n",
      "264795/264795 [==============================] - 81s 306us/step - loss: 0.0038 - accuracy: 0.9990 - val_loss: 0.0076 - val_accuracy: 0.9988\n",
      "Epoch 14/50\n",
      "264795/264795 [==============================] - 82s 308us/step - loss: 0.0039 - accuracy: 0.9990 - val_loss: 0.0063 - val_accuracy: 0.9988\n",
      "Epoch 15/50\n",
      "264795/264795 [==============================] - 81s 306us/step - loss: 0.0035 - accuracy: 0.9991 - val_loss: 0.0055 - val_accuracy: 0.9988\n",
      "Epoch 16/50\n",
      "264795/264795 [==============================] - 84s 316us/step - loss: 0.0034 - accuracy: 0.9991 - val_loss: 0.0076 - val_accuracy: 0.9988\n",
      "Epoch 17/50\n",
      "264795/264795 [==============================] - 82s 310us/step - loss: 0.0035 - accuracy: 0.9991 - val_loss: 0.0060 - val_accuracy: 0.9988\n",
      "Epoch 18/50\n",
      "264795/264795 [==============================] - 84s 319us/step - loss: 0.0032 - accuracy: 0.9991 - val_loss: 0.0086 - val_accuracy: 0.9989\n",
      "Epoch 19/50\n",
      "264795/264795 [==============================] - 86s 325us/step - loss: 0.0033 - accuracy: 0.9991 - val_loss: 0.0083 - val_accuracy: 0.9989\n",
      "Epoch 20/50\n",
      "264795/264795 [==============================] - 88s 332us/step - loss: 0.0032 - accuracy: 0.9992 - val_loss: 0.0084 - val_accuracy: 0.9990\n",
      "Epoch 21/50\n",
      "264795/264795 [==============================] - 145s 546us/step - loss: 0.0031 - accuracy: 0.9992 - val_loss: 0.0125 - val_accuracy: 0.9989\n",
      "Epoch 22/50\n",
      "264795/264795 [==============================] - 140s 528us/step - loss: 0.0031 - accuracy: 0.9992 - val_loss: 0.0083 - val_accuracy: 0.9990\n",
      "Epoch 23/50\n",
      "264795/264795 [==============================] - 143s 542us/step - loss: 0.0033 - accuracy: 0.9992 - val_loss: 0.0058 - val_accuracy: 0.9988\n",
      "Epoch 24/50\n",
      "264795/264795 [==============================] - 145s 548us/step - loss: 0.0030 - accuracy: 0.9993 - val_loss: 0.0056 - val_accuracy: 0.9990\n",
      "Epoch 25/50\n",
      "264795/264795 [==============================] - 138s 520us/step - loss: 0.0030 - accuracy: 0.9993 - val_loss: 0.0057 - val_accuracy: 0.9990\n",
      "Epoch 26/50\n",
      "264795/264795 [==============================] - 95s 357us/step - loss: 0.0029 - accuracy: 0.9993 - val_loss: 0.0077 - val_accuracy: 0.9989\n",
      "Epoch 27/50\n",
      "264795/264795 [==============================] - 71s 268us/step - loss: 0.0028 - accuracy: 0.9994 - val_loss: 0.0077 - val_accuracy: 0.9991\n",
      "Epoch 28/50\n",
      "264795/264795 [==============================] - 79s 298us/step - loss: 0.0028 - accuracy: 0.9993 - val_loss: 0.0074 - val_accuracy: 0.9990\n",
      "Epoch 29/50\n",
      "264795/264795 [==============================] - 93s 350us/step - loss: 0.0025 - accuracy: 0.9993 - val_loss: 0.0152 - val_accuracy: 0.9990\n",
      "Epoch 30/50\n",
      "264795/264795 [==============================] - 138s 521us/step - loss: 0.0028 - accuracy: 0.9994 - val_loss: 0.0089 - val_accuracy: 0.9990\n",
      "Epoch 31/50\n",
      "264795/264795 [==============================] - 138s 521us/step - loss: 0.0026 - accuracy: 0.9994 - val_loss: 0.0052 - val_accuracy: 0.9991\n",
      "Epoch 32/50\n",
      "264795/264795 [==============================] - 137s 517us/step - loss: 0.0026 - accuracy: 0.9994 - val_loss: 0.0064 - val_accuracy: 0.9990\n",
      "Epoch 33/50\n",
      "264795/264795 [==============================] - 136s 513us/step - loss: 0.0028 - accuracy: 0.9994 - val_loss: 0.0095 - val_accuracy: 0.9990\n",
      "Epoch 34/50\n",
      "264795/264795 [==============================] - 140s 529us/step - loss: 0.0027 - accuracy: 0.9994 - val_loss: 0.0095 - val_accuracy: 0.9990\n",
      "Epoch 35/50\n",
      "264795/264795 [==============================] - 140s 530us/step - loss: 0.0026 - accuracy: 0.9994 - val_loss: 0.0066 - val_accuracy: 0.9991\n",
      "Epoch 36/50\n",
      "264795/264795 [==============================] - 125s 471us/step - loss: 0.0024 - accuracy: 0.9994 - val_loss: 0.0098 - val_accuracy: 0.9991\n",
      "Epoch 37/50\n",
      "264795/264795 [==============================] - 72s 273us/step - loss: 0.0028 - accuracy: 0.9994 - val_loss: 0.0055 - val_accuracy: 0.9990\n",
      "Epoch 38/50\n",
      "264795/264795 [==============================] - 63s 236us/step - loss: 0.0024 - accuracy: 0.9994 - val_loss: 0.0060 - val_accuracy: 0.9991\n",
      "Epoch 39/50\n",
      "264795/264795 [==============================] - 69s 260us/step - loss: 0.0025 - accuracy: 0.9994 - val_loss: 0.0055 - val_accuracy: 0.9992\n",
      "Epoch 40/50\n",
      "264795/264795 [==============================] - 63s 237us/step - loss: 0.0023 - accuracy: 0.9994 - val_loss: 0.0084 - val_accuracy: 0.9991\n",
      "Epoch 41/50\n",
      "264795/264795 [==============================] - 69s 259us/step - loss: 0.0027 - accuracy: 0.9994 - val_loss: 0.0069 - val_accuracy: 0.9991\n",
      "Epoch 42/50\n",
      "264795/264795 [==============================] - 134s 507us/step - loss: 0.0025 - accuracy: 0.9994 - val_loss: 0.0094 - val_accuracy: 0.9992\n",
      "Epoch 43/50\n",
      "264795/264795 [==============================] - 119s 451us/step - loss: 0.0021 - accuracy: 0.9995 - val_loss: 0.0069 - val_accuracy: 0.9991\n",
      "Epoch 44/50\n",
      "264795/264795 [==============================] - 98s 369us/step - loss: 0.0024 - accuracy: 0.9995 - val_loss: 0.0086 - val_accuracy: 0.9991\n",
      "Epoch 45/50\n",
      "264795/264795 [==============================] - 66s 248us/step - loss: 0.0022 - accuracy: 0.9995 - val_loss: 0.0081 - val_accuracy: 0.9992\n",
      "Epoch 46/50\n",
      "264795/264795 [==============================] - 66s 251us/step - loss: 0.0022 - accuracy: 0.9995 - val_loss: 0.0088 - val_accuracy: 0.9992\n",
      "Epoch 47/50\n",
      "264795/264795 [==============================] - 63s 237us/step - loss: 0.0023 - accuracy: 0.9995 - val_loss: 0.0117 - val_accuracy: 0.9993\n",
      "Epoch 48/50\n",
      "264795/264795 [==============================] - 63s 238us/step - loss: 0.0022 - accuracy: 0.9995 - val_loss: 0.0071 - val_accuracy: 0.9991\n",
      "Epoch 49/50\n",
      "264795/264795 [==============================] - 62s 233us/step - loss: 0.0022 - accuracy: 0.9995 - val_loss: 0.0089 - val_accuracy: 0.9987\n",
      "Epoch 50/50\n",
      "264795/264795 [==============================] - 64s 240us/step - loss: 0.0019 - accuracy: 0.9995 - val_loss: 0.0056 - val_accuracy: 0.9992\n"
     ]
    }
   ],
   "source": [
    "history = model.fit(X_train_pca, y_train, epochs=50, batch_size=32, verbose=1, validation_split=0.2)"
   ]
  },
  {
   "cell_type": "code",
   "execution_count": 15,
   "metadata": {},
   "outputs": [
    {
     "data": {
      "text/plain": [
       "<matplotlib.legend.Legend at 0x7fd38dacb0d0>"
      ]
     },
     "execution_count": 15,
     "metadata": {},
     "output_type": "execute_result"
    },
    {
     "data": {
      "image/png": "[encoded data removed]",
      "text/plain": [
       "<Figure size 432x288 with 1 Axes>"
      ]
     },
     "metadata": {
      "needs_background": "light"
     },
     "output_type": "display_data"
    }
   ],
   "source": [
    "epochs = history.epoch\n",
    "\n",
    "loss = history.history['loss']\n",
    "validation_loss = history.history['val_loss']\n",
    "\n",
    "plt.title('Loss')\n",
    "plt.xlabel('Epochs')\n",
    "plt.ylabel('loss')\n",
    "plt.plot(epochs, loss, c='red', label='training')\n",
    "plt.plot(epochs, validation_loss, c='orange', label='validation')\n",
    "plt.legend(loc='best')"
   ]
  },
  {
   "cell_type": "code",
   "execution_count": 16,
   "metadata": {},
   "outputs": [
    {
     "data": {
      "text/plain": [
       "<matplotlib.legend.Legend at 0x7fd38dab5e50>"
      ]
     },
     "execution_count": 16,
     "metadata": {},
     "output_type": "execute_result"
    },
    {
     "data": {
      "image/png": "[encoded data removed]",
      "text/plain": [
       "<Figure size 432x288 with 1 Axes>"
      ]
     },
     "metadata": {
      "needs_background": "light"
     },
     "output_type": "display_data"
    }
   ],
   "source": [
    "acc = history.history['accuracy']\n",
    "validation_acc = history.history['val_accuracy']\n",
    "\n",
    "plt.title('Accuracy')\n",
    "plt.xlabel('epochs')\n",
    "plt.ylabel('acccuracy')\n",
    "plt.plot(epochs, acc, c='red', label='training')\n",
    "plt.plot(epochs, validation_acc, c='orange', label='validation')\n",
    "plt.legend(loc='best')"
   ]
  },
  {
   "cell_type": "code",
   "execution_count": 18,
   "metadata": {},
   "outputs": [],
   "source": [
    "y_predicted = model.predict(X_test_pca)"
   ]
  },
  {
   "cell_type": "code",
   "execution_count": 19,
   "metadata": {},
   "outputs": [
    {
     "name": "stdout",
     "output_type": "stream",
     "text": [
      "163027/163027 [==============================] - 31s 188us/step\n"
     ]
    }
   ],
   "source": [
    "loss_v, acc_v = model.evaluate(X_test_pca, y_test)"
   ]
  },
  {
   "cell_type": "code",
   "execution_count": 20,
   "metadata": {},
   "outputs": [
    {
     "data": {
      "text/plain": [
       "0.0022896645248043205"
      ]
     },
     "execution_count": 20,
     "metadata": {},
     "output_type": "execute_result"
    }
   ],
   "source": [
    "loss_v"
   ]
  },
  {
   "cell_type": "code",
   "execution_count": 21,
   "metadata": {},
   "outputs": [
    {
     "data": {
      "text/plain": [
       "0.9994233846664429"
      ]
     },
     "execution_count": 21,
     "metadata": {},
     "output_type": "execute_result"
    }
   ],
   "source": [
    "acc_v"
   ]
  },
  {
   "cell_type": "code",
   "execution_count": 22,
   "metadata": {},
   "outputs": [
    {
     "name": "stdout",
     "output_type": "stream",
     "text": [
      "330994/330994 [==============================] - 61s 186us/step\n"
     ]
    }
   ],
   "source": [
    "loss_t, acc_t = model.evaluate(X_train_pca, y_train)"
   ]
  },
  {
   "cell_type": "code",
   "execution_count": 23,
   "metadata": {},
   "outputs": [
    {
     "data": {
      "text/plain": [
       "0.002660161769427004"
      ]
     },
     "execution_count": 23,
     "metadata": {},
     "output_type": "execute_result"
    }
   ],
   "source": [
    "loss_t"
   ]
  },
  {
   "cell_type": "code",
   "execution_count": 24,
   "metadata": {},
   "outputs": [
    {
     "data": {
      "text/plain": [
       "0.999474287033081"
      ]
     },
     "execution_count": 24,
     "metadata": {},
     "output_type": "execute_result"
    }
   ],
   "source": [
    "acc_t"
   ]
  },
  {
   "cell_type": "code",
   "execution_count": 25,
   "metadata": {},
   "outputs": [],
   "source": [
    "y_predicted = [int(prediction >= 0.5) for prediction in y_predicted]"
   ]
  },
  {
   "cell_type": "code",
   "execution_count": 26,
   "metadata": {},
   "outputs": [
    {
     "data": {
      "text/plain": [
       "array([ 32124, 130903])"
      ]
     },
     "execution_count": 26,
     "metadata": {},
     "output_type": "execute_result"
    }
   ],
   "source": [
    "np.bincount(y_predicted)"
   ]
  },
  {
   "cell_type": "code",
   "execution_count": 27,
   "metadata": {},
   "outputs": [],
   "source": [
    "from sklearn.metrics import confusion_matrix, classification_report"
   ]
  },
  {
   "cell_type": "code",
   "execution_count": 28,
   "metadata": {},
   "outputs": [
    {
     "name": "stdout",
     "output_type": "stream",
     "text": [
      "[[ 32066     58]\n",
      " [    36 130867]]\n"
     ]
    }
   ],
   "source": [
    "print(confusion_matrix(y_predicted, y_test))"
   ]
  },
  {
   "cell_type": "code",
   "execution_count": 29,
   "metadata": {},
   "outputs": [
    {
     "name": "stdout",
     "output_type": "stream",
     "text": [
      "              precision    recall  f1-score   support\n",
      "\n",
      "           0       1.00      1.00      1.00     32124\n",
      "           1       1.00      1.00      1.00    130903\n",
      "\n",
      "    accuracy                           1.00    163027\n",
      "   macro avg       1.00      1.00      1.00    163027\n",
      "weighted avg       1.00      1.00      1.00    163027\n",
      "\n"
     ]
    }
   ],
   "source": [
    "print(classification_report(y_predicted, y_test))"
   ]
  },
  {
   "cell_type": "code",
   "execution_count": null,
   "metadata": {},
   "outputs": [],
   "source": []
  }
 ],
 "metadata": {
  "kernelspec": {
   "display_name": "Python 3",
   "language": "python",
   "name": "python3"
  },
  "language_info": {
   "codemirror_mode": {
    "name": "ipython",
    "version": 3
   },
   "file_extension": ".py",
   "mimetype": "text/x-python",
   "name": "python",
   "nbconvert_exporter": "python",
   "pygments_lexer": "ipython3",
   "version": "3.7.6"
  }
 },
 "nbformat": 4,
 "nbformat_minor": 4
}
