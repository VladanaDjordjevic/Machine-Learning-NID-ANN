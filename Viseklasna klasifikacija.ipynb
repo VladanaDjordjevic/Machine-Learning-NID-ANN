{
 "cells": [
  {
   "cell_type": "markdown",
   "metadata": {},
   "source": [
    "# Višeklasna klasifikacija "
   ]
  },
  {
   "cell_type": "code",
   "execution_count": 190,
   "metadata": {},
   "outputs": [],
   "source": [
    "import numpy as np\n",
    "import pandas as pd\n",
    "from tensorflow import keras\n",
    "\n",
    "import tensorflow as tf\n",
    "\n",
    "from keras.models import Sequential\n",
    "from keras.layers import Dense\n",
    "from keras.optimizers import Adam\n",
    "from keras import losses, optimizers\n",
    "\n",
    "from matplotlib import pyplot as plt\n",
    "\n",
    "from sklearn import preprocessing\n",
    "from sklearn import datasets\n",
    "from sklearn import model_selection\n",
    "from sklearn import linear_model\n",
    "from sklearn import feature_selection\n",
    "\n",
    "from sklearn.decomposition import PCA\n",
    "\n",
    "np.random.seed(10)\n",
    "\n",
    "import category_encoders as ce\n",
    "\n",
    "from keras.callbacks import TensorBoard"
   ]
  },
  {
   "cell_type": "code",
   "execution_count": 191,
   "metadata": {},
   "outputs": [],
   "source": [
    "data = pd.read_csv('kddcup.csv.data_10_percent_corrected')"
   ]
  },
  {
   "cell_type": "code",
   "execution_count": 192,
   "metadata": {},
   "outputs": [
    {
     "data": {
      "text/html": [
       "<div>\n",
       "<style scoped>\n",
       "    .dataframe tbody tr th:only-of-type {\n",
       "        vertical-align: middle;\n",
       "    }\n",
       "\n",
       "    .dataframe tbody tr th {\n",
       "        vertical-align: top;\n",
       "    }\n",
       "\n",
       "    .dataframe thead th {\n",
       "        text-align: right;\n",
       "    }\n",
       "</style>\n",
       "<table border=\"1\" class=\"dataframe\">\n",
       "  <thead>\n",
       "    <tr style=\"text-align: right;\">\n",
       "      <th></th>\n",
       "      <th>duration</th>\n",
       "      <th>protocol_type</th>\n",
       "      <th>service</th>\n",
       "      <th>flag</th>\n",
       "      <th>src_bytes</th>\n",
       "      <th>dst_bytes</th>\n",
       "      <th>land</th>\n",
       "      <th>wrong_fragment</th>\n",
       "      <th>urgent</th>\n",
       "      <th>hot</th>\n",
       "      <th>...</th>\n",
       "      <th>dst_host_srv_count</th>\n",
       "      <th>dst_host_same_srv_rate</th>\n",
       "      <th>dst_host_diff_srv_rate</th>\n",
       "      <th>dst_host_same_src_port_rate</th>\n",
       "      <th>dst_host_srv_diff_host_rate</th>\n",
       "      <th>dst_host_serror_rate</th>\n",
       "      <th>dst_host_srv_serror_rate</th>\n",
       "      <th>dst_host_rerror_rate</th>\n",
       "      <th>dst_host_srv_rerror_rate</th>\n",
       "      <th>class</th>\n",
       "    </tr>\n",
       "  </thead>\n",
       "  <tbody>\n",
       "    <tr>\n",
       "      <th>0</th>\n",
       "      <td>0</td>\n",
       "      <td>tcp</td>\n",
       "      <td>http</td>\n",
       "      <td>SF</td>\n",
       "      <td>181</td>\n",
       "      <td>5450</td>\n",
       "      <td>0</td>\n",
       "      <td>0</td>\n",
       "      <td>0</td>\n",
       "      <td>0</td>\n",
       "      <td>...</td>\n",
       "      <td>9</td>\n",
       "      <td>1.0</td>\n",
       "      <td>0.0</td>\n",
       "      <td>0.11</td>\n",
       "      <td>0.0</td>\n",
       "      <td>0.0</td>\n",
       "      <td>0.0</td>\n",
       "      <td>0.0</td>\n",
       "      <td>0.0</td>\n",
       "      <td>normal.</td>\n",
       "    </tr>\n",
       "    <tr>\n",
       "      <th>1</th>\n",
       "      <td>0</td>\n",
       "      <td>tcp</td>\n",
       "      <td>http</td>\n",
       "      <td>SF</td>\n",
       "      <td>239</td>\n",
       "      <td>486</td>\n",
       "      <td>0</td>\n",
       "      <td>0</td>\n",
       "      <td>0</td>\n",
       "      <td>0</td>\n",
       "      <td>...</td>\n",
       "      <td>19</td>\n",
       "      <td>1.0</td>\n",
       "      <td>0.0</td>\n",
       "      <td>0.05</td>\n",
       "      <td>0.0</td>\n",
       "      <td>0.0</td>\n",
       "      <td>0.0</td>\n",
       "      <td>0.0</td>\n",
       "      <td>0.0</td>\n",
       "      <td>normal.</td>\n",
       "    </tr>\n",
       "    <tr>\n",
       "      <th>2</th>\n",
       "      <td>0</td>\n",
       "      <td>tcp</td>\n",
       "      <td>http</td>\n",
       "      <td>SF</td>\n",
       "      <td>235</td>\n",
       "      <td>1337</td>\n",
       "      <td>0</td>\n",
       "      <td>0</td>\n",
       "      <td>0</td>\n",
       "      <td>0</td>\n",
       "      <td>...</td>\n",
       "      <td>29</td>\n",
       "      <td>1.0</td>\n",
       "      <td>0.0</td>\n",
       "      <td>0.03</td>\n",
       "      <td>0.0</td>\n",
       "      <td>0.0</td>\n",
       "      <td>0.0</td>\n",
       "      <td>0.0</td>\n",
       "      <td>0.0</td>\n",
       "      <td>normal.</td>\n",
       "    </tr>\n",
       "    <tr>\n",
       "      <th>3</th>\n",
       "      <td>0</td>\n",
       "      <td>tcp</td>\n",
       "      <td>http</td>\n",
       "      <td>SF</td>\n",
       "      <td>219</td>\n",
       "      <td>1337</td>\n",
       "      <td>0</td>\n",
       "      <td>0</td>\n",
       "      <td>0</td>\n",
       "      <td>0</td>\n",
       "      <td>...</td>\n",
       "      <td>39</td>\n",
       "      <td>1.0</td>\n",
       "      <td>0.0</td>\n",
       "      <td>0.03</td>\n",
       "      <td>0.0</td>\n",
       "      <td>0.0</td>\n",
       "      <td>0.0</td>\n",
       "      <td>0.0</td>\n",
       "      <td>0.0</td>\n",
       "      <td>normal.</td>\n",
       "    </tr>\n",
       "    <tr>\n",
       "      <th>4</th>\n",
       "      <td>0</td>\n",
       "      <td>tcp</td>\n",
       "      <td>http</td>\n",
       "      <td>SF</td>\n",
       "      <td>217</td>\n",
       "      <td>2032</td>\n",
       "      <td>0</td>\n",
       "      <td>0</td>\n",
       "      <td>0</td>\n",
       "      <td>0</td>\n",
       "      <td>...</td>\n",
       "      <td>49</td>\n",
       "      <td>1.0</td>\n",
       "      <td>0.0</td>\n",
       "      <td>0.02</td>\n",
       "      <td>0.0</td>\n",
       "      <td>0.0</td>\n",
       "      <td>0.0</td>\n",
       "      <td>0.0</td>\n",
       "      <td>0.0</td>\n",
       "      <td>normal.</td>\n",
       "    </tr>\n",
       "  </tbody>\n",
       "</table>\n",
       "<p>5 rows × 42 columns</p>\n",
       "</div>"
      ],
      "text/plain": [
       "   duration protocol_type service flag  src_bytes  dst_bytes  land  \\\n",
       "0         0           tcp    http   SF        181       5450     0   \n",
       "1         0           tcp    http   SF        239        486     0   \n",
       "2         0           tcp    http   SF        235       1337     0   \n",
       "3         0           tcp    http   SF        219       1337     0   \n",
       "4         0           tcp    http   SF        217       2032     0   \n",
       "\n",
       "   wrong_fragment  urgent  hot  ...  dst_host_srv_count  \\\n",
       "0               0       0    0  ...                   9   \n",
       "1               0       0    0  ...                  19   \n",
       "2               0       0    0  ...                  29   \n",
       "3               0       0    0  ...                  39   \n",
       "4               0       0    0  ...                  49   \n",
       "\n",
       "   dst_host_same_srv_rate  dst_host_diff_srv_rate  \\\n",
       "0                     1.0                     0.0   \n",
       "1                     1.0                     0.0   \n",
       "2                     1.0                     0.0   \n",
       "3                     1.0                     0.0   \n",
       "4                     1.0                     0.0   \n",
       "\n",
       "   dst_host_same_src_port_rate  dst_host_srv_diff_host_rate  \\\n",
       "0                         0.11                          0.0   \n",
       "1                         0.05                          0.0   \n",
       "2                         0.03                          0.0   \n",
       "3                         0.03                          0.0   \n",
       "4                         0.02                          0.0   \n",
       "\n",
       "   dst_host_serror_rate  dst_host_srv_serror_rate  dst_host_rerror_rate  \\\n",
       "0                   0.0                       0.0                   0.0   \n",
       "1                   0.0                       0.0                   0.0   \n",
       "2                   0.0                       0.0                   0.0   \n",
       "3                   0.0                       0.0                   0.0   \n",
       "4                   0.0                       0.0                   0.0   \n",
       "\n",
       "   dst_host_srv_rerror_rate    class  \n",
       "0                       0.0  normal.  \n",
       "1                       0.0  normal.  \n",
       "2                       0.0  normal.  \n",
       "3                       0.0  normal.  \n",
       "4                       0.0  normal.  \n",
       "\n",
       "[5 rows x 42 columns]"
      ]
     },
     "execution_count": 192,
     "metadata": {},
     "output_type": "execute_result"
    }
   ],
   "source": [
    "data.head()"
   ]
  },
  {
   "cell_type": "code",
   "execution_count": null,
   "metadata": {},
   "outputs": [],
   "source": []
  },
  {
   "cell_type": "code",
   "execution_count": 193,
   "metadata": {},
   "outputs": [],
   "source": [
    "y = data['class']"
   ]
  },
  {
   "cell_type": "code",
   "execution_count": 194,
   "metadata": {},
   "outputs": [
    {
     "data": {
      "text/plain": [
       "smurf.              280790\n",
       "neptune.            107201\n",
       "normal.              97278\n",
       "back.                 2203\n",
       "satan.                1589\n",
       "ipsweep.              1247\n",
       "portsweep.            1040\n",
       "warezclient.          1020\n",
       "teardrop.              979\n",
       "pod.                   264\n",
       "nmap.                  231\n",
       "guess_passwd.           53\n",
       "buffer_overflow.        30\n",
       "land.                   21\n",
       "warezmaster.            20\n",
       "imap.                   12\n",
       "rootkit.                10\n",
       "loadmodule.              9\n",
       "ftp_write.               8\n",
       "multihop.                7\n",
       "phf.                     4\n",
       "perl.                    3\n",
       "spy.                     2\n",
       "Name: class, dtype: int64"
      ]
     },
     "execution_count": 194,
     "metadata": {},
     "output_type": "execute_result"
    }
   ],
   "source": [
    "y.value_counts()"
   ]
  },
  {
   "cell_type": "markdown",
   "metadata": {},
   "source": [
    "Zelimo da objedinimo klase koje imaju jednocifren i dvocifren broj instanci u jednu novu klasu pod imenom 'other_attacks'."
   ]
  },
  {
   "cell_type": "code",
   "execution_count": 207,
   "metadata": {},
   "outputs": [],
   "source": [
    "y.loc[y == 'spy.'] = 'other_attacks.'"
   ]
  },
  {
   "cell_type": "code",
   "execution_count": 196,
   "metadata": {},
   "outputs": [],
   "source": [
    "y.loc[y == 'perl.'] = 'other_attacks.'"
   ]
  },
  {
   "cell_type": "code",
   "execution_count": 197,
   "metadata": {},
   "outputs": [],
   "source": [
    "y.loc[y == 'phf.'] = 'other_attacks.'"
   ]
  },
  {
   "cell_type": "code",
   "execution_count": 198,
   "metadata": {},
   "outputs": [],
   "source": [
    "y.loc[y == 'multihop.'] = 'other_attacks.'"
   ]
  },
  {
   "cell_type": "code",
   "execution_count": 199,
   "metadata": {},
   "outputs": [],
   "source": [
    "y.loc[y == 'ftp_write.'] = 'other_attacks.'"
   ]
  },
  {
   "cell_type": "code",
   "execution_count": 200,
   "metadata": {},
   "outputs": [],
   "source": [
    "y.loc[y == 'loadmodule.'] = 'other_attacks.'"
   ]
  },
  {
   "cell_type": "code",
   "execution_count": 201,
   "metadata": {},
   "outputs": [],
   "source": [
    "y.loc[y == 'rootkit.'] = 'other_attacks.'"
   ]
  },
  {
   "cell_type": "code",
   "execution_count": 202,
   "metadata": {},
   "outputs": [],
   "source": [
    "y.loc[y == 'imap.'] = 'other_attacks.'"
   ]
  },
  {
   "cell_type": "code",
   "execution_count": 203,
   "metadata": {},
   "outputs": [],
   "source": [
    "y.loc[y == 'warezmaster.'] = 'other_attacks.'"
   ]
  },
  {
   "cell_type": "code",
   "execution_count": 204,
   "metadata": {},
   "outputs": [],
   "source": [
    "y.loc[y == 'land.'] = 'other_attacks.'"
   ]
  },
  {
   "cell_type": "code",
   "execution_count": 205,
   "metadata": {},
   "outputs": [],
   "source": [
    "y.loc[y == 'buffer_overflow.'] = 'other_attacks.'"
   ]
  },
  {
   "cell_type": "code",
   "execution_count": 206,
   "metadata": {},
   "outputs": [],
   "source": [
    "y.loc[y == 'guess_passwd.'] = 'other_attacks.'"
   ]
  },
  {
   "cell_type": "code",
   "execution_count": 208,
   "metadata": {},
   "outputs": [
    {
     "data": {
      "text/plain": [
       "179"
      ]
     },
     "execution_count": 208,
     "metadata": {},
     "output_type": "execute_result"
    }
   ],
   "source": [
    "len(np.where(y == 'other_attacks.')[0])"
   ]
  },
  {
   "cell_type": "code",
   "execution_count": 209,
   "metadata": {},
   "outputs": [
    {
     "data": {
      "text/plain": [
       "smurf.            280790\n",
       "neptune.          107201\n",
       "normal.            97278\n",
       "back.               2203\n",
       "satan.              1589\n",
       "ipsweep.            1247\n",
       "portsweep.          1040\n",
       "warezclient.        1020\n",
       "teardrop.            979\n",
       "pod.                 264\n",
       "nmap.                231\n",
       "other_attacks.       179\n",
       "Name: class, dtype: int64"
      ]
     },
     "execution_count": 209,
     "metadata": {},
     "output_type": "execute_result"
    }
   ],
   "source": [
    "y.value_counts()"
   ]
  },
  {
   "cell_type": "markdown",
   "metadata": {},
   "source": [
    "Klase cemo da kodiramo brojevima i napravicemo recnik, da bismo kasnije mogli da tumacimo matricu konfuzije."
   ]
  },
  {
   "cell_type": "code",
   "execution_count": 317,
   "metadata": {},
   "outputs": [],
   "source": [
    "y = y.astype('category')"
   ]
  },
  {
   "cell_type": "code",
   "execution_count": 212,
   "metadata": {},
   "outputs": [],
   "source": [
    "d = dict(enumerate(y.cat.categories))"
   ]
  },
  {
   "cell_type": "code",
   "execution_count": 213,
   "metadata": {},
   "outputs": [
    {
     "data": {
      "text/plain": [
       "{0: 'back.',\n",
       " 1: 'ipsweep.',\n",
       " 2: 'neptune.',\n",
       " 3: 'nmap.',\n",
       " 4: 'normal.',\n",
       " 5: 'other_attacks.',\n",
       " 6: 'pod.',\n",
       " 7: 'portsweep.',\n",
       " 8: 'satan.',\n",
       " 9: 'smurf.',\n",
       " 10: 'teardrop.',\n",
       " 11: 'warezclient.'}"
      ]
     },
     "execution_count": 213,
     "metadata": {},
     "output_type": "execute_result"
    }
   ],
   "source": [
    "d"
   ]
  },
  {
   "cell_type": "code",
   "execution_count": 214,
   "metadata": {},
   "outputs": [],
   "source": [
    "y = y.cat.codes"
   ]
  },
  {
   "cell_type": "code",
   "execution_count": 215,
   "metadata": {},
   "outputs": [
    {
     "data": {
      "text/plain": [
       "12"
      ]
     },
     "execution_count": 215,
     "metadata": {},
     "output_type": "execute_result"
    }
   ],
   "source": [
    "len(np.unique(y))"
   ]
  },
  {
   "cell_type": "code",
   "execution_count": 216,
   "metadata": {},
   "outputs": [],
   "source": [
    "X = data.drop(columns = ['class'], axis = 1)"
   ]
  },
  {
   "cell_type": "code",
   "execution_count": 217,
   "metadata": {},
   "outputs": [],
   "source": [
    "X_train, X_test, y_train, y_test = model_selection.train_test_split(X, y, test_size=0.33, stratify=y, random_state=7)"
   ]
  },
  {
   "cell_type": "code",
   "execution_count": 218,
   "metadata": {},
   "outputs": [],
   "source": [
    "y_train = keras.utils.to_categorical(y_train)\n",
    "y_test = keras.utils.to_categorical(y_test)"
   ]
  },
  {
   "cell_type": "code",
   "execution_count": 219,
   "metadata": {},
   "outputs": [
    {
     "data": {
      "text/plain": [
       "(330994, 41)"
      ]
     },
     "execution_count": 219,
     "metadata": {},
     "output_type": "execute_result"
    }
   ],
   "source": [
    "X_train.shape"
   ]
  },
  {
   "cell_type": "code",
   "execution_count": 220,
   "metadata": {},
   "outputs": [
    {
     "data": {
      "text/plain": [
       "(163027, 41)"
      ]
     },
     "execution_count": 220,
     "metadata": {},
     "output_type": "execute_result"
    }
   ],
   "source": [
    "X_test.shape"
   ]
  },
  {
   "cell_type": "markdown",
   "metadata": {},
   "source": [
    "U delu binarna klasifikacija smo naucili da atributi 'is_host_login' i 'num_outbound_cmds' imaju kao sve vrednosti 0, a to nam ne znaci za ocenjivanje klase, stoga ih izbacujemo iz podataka."
   ]
  },
  {
   "cell_type": "code",
   "execution_count": 221,
   "metadata": {},
   "outputs": [],
   "source": [
    "X_train = X_train.drop(columns = ['is_host_login', 'num_outbound_cmds'], axis = 1)"
   ]
  },
  {
   "cell_type": "code",
   "execution_count": 222,
   "metadata": {},
   "outputs": [],
   "source": [
    "X_test = X_test.drop(columns = ['is_host_login', 'num_outbound_cmds'], axis = 1)"
   ]
  },
  {
   "cell_type": "code",
   "execution_count": 223,
   "metadata": {},
   "outputs": [
    {
     "data": {
      "text/plain": [
       "(330994, 39)"
      ]
     },
     "execution_count": 223,
     "metadata": {},
     "output_type": "execute_result"
    }
   ],
   "source": [
    "X_train.shape"
   ]
  },
  {
   "cell_type": "code",
   "execution_count": 224,
   "metadata": {
    "scrolled": true
   },
   "outputs": [
    {
     "data": {
      "text/plain": [
       "(163027, 39)"
      ]
     },
     "execution_count": 224,
     "metadata": {},
     "output_type": "execute_result"
    }
   ],
   "source": [
    "X_test.shape"
   ]
  },
  {
   "cell_type": "markdown",
   "metadata": {},
   "source": [
    "Da bismo primenili PCA algoritam, potrebno je skup podataka podeliti u dva skupa. Jedan sa numerickim podacima, a drugi sa kategorickim."
   ]
  },
  {
   "cell_type": "code",
   "execution_count": 225,
   "metadata": {},
   "outputs": [],
   "source": [
    "X_train_without_categorical = X_train.drop(columns = ['protocol_type', 'service', 'flag'], axis = 1)"
   ]
  },
  {
   "cell_type": "code",
   "execution_count": 226,
   "metadata": {},
   "outputs": [],
   "source": [
    "X_test_without_categorical = X_test.drop(columns = ['protocol_type', 'service', 'flag'], axis = 1)"
   ]
  },
  {
   "cell_type": "code",
   "execution_count": 227,
   "metadata": {},
   "outputs": [
    {
     "data": {
      "text/plain": [
       "(330994, 36)"
      ]
     },
     "execution_count": 227,
     "metadata": {},
     "output_type": "execute_result"
    }
   ],
   "source": [
    "X_train_without_categorical.shape"
   ]
  },
  {
   "cell_type": "code",
   "execution_count": 228,
   "metadata": {},
   "outputs": [
    {
     "data": {
      "text/plain": [
       "(163027, 36)"
      ]
     },
     "execution_count": 228,
     "metadata": {},
     "output_type": "execute_result"
    }
   ],
   "source": [
    "X_test_without_categorical.shape"
   ]
  },
  {
   "cell_type": "code",
   "execution_count": 229,
   "metadata": {},
   "outputs": [],
   "source": [
    "X_train_only_categorical = X_train.filter(['protocol_type', 'service', 'flag'])"
   ]
  },
  {
   "cell_type": "code",
   "execution_count": 230,
   "metadata": {},
   "outputs": [],
   "source": [
    "X_test_only_categorical = X_test.filter(['protocol_type', 'service', 'flag'])"
   ]
  },
  {
   "cell_type": "code",
   "execution_count": 231,
   "metadata": {},
   "outputs": [
    {
     "data": {
      "text/plain": [
       "(330994, 3)"
      ]
     },
     "execution_count": 231,
     "metadata": {},
     "output_type": "execute_result"
    }
   ],
   "source": [
    "X_train_only_categorical.shape"
   ]
  },
  {
   "cell_type": "code",
   "execution_count": 232,
   "metadata": {},
   "outputs": [
    {
     "data": {
      "text/plain": [
       "(163027, 3)"
      ]
     },
     "execution_count": 232,
     "metadata": {},
     "output_type": "execute_result"
    }
   ],
   "source": [
    "X_test_only_categorical.shape"
   ]
  },
  {
   "cell_type": "markdown",
   "metadata": {},
   "source": [
    "Enkodiramo kategoricke podatke."
   ]
  },
  {
   "cell_type": "code",
   "execution_count": 233,
   "metadata": {},
   "outputs": [],
   "source": [
    "encoderPCA = ce.BinaryEncoder(X_train_only_categorical)\n",
    "X_train_only_categorical = encoderPCA.fit_transform(X_train_only_categorical)"
   ]
  },
  {
   "cell_type": "code",
   "execution_count": 234,
   "metadata": {},
   "outputs": [],
   "source": [
    "X_test_only_categorical = encoderPCA.transform(X_test_only_categorical)"
   ]
  },
  {
   "cell_type": "markdown",
   "metadata": {},
   "source": [
    "Primenjujemo standardizaciju na numericke podatke."
   ]
  },
  {
   "cell_type": "code",
   "execution_count": 235,
   "metadata": {},
   "outputs": [],
   "source": [
    "scalerPCA = preprocessing.StandardScaler()\n",
    "scalerPCA.fit(X_train_without_categorical)\n",
    "X_train_without_categorical = scalerPCA.transform(X_train_without_categorical)\n",
    "X_test_without_categorical = scalerPCA.transform(X_test_without_categorical)"
   ]
  },
  {
   "cell_type": "markdown",
   "metadata": {},
   "source": [
    "Primenjujemo PCA algoritam na numericke podatke i biramo da nam broj komponenti bude 20. Ovaj broj je eksperimentalno utvrdjen. Primenom PCA algoritma sacuvali smo 96% informacija."
   ]
  },
  {
   "cell_type": "code",
   "execution_count": 236,
   "metadata": {},
   "outputs": [],
   "source": [
    "pca = PCA(n_components=20)\n",
    "pca.fit(X_train_without_categorical, y_train)\n",
    "X_train_pca = pca.transform(X_train_without_categorical)\n",
    "X_test_pca = pca.transform(X_test_without_categorical)"
   ]
  },
  {
   "cell_type": "code",
   "execution_count": 237,
   "metadata": {},
   "outputs": [
    {
     "data": {
      "text/plain": [
       "array([0.22281332, 0.12536241, 0.08942298, 0.08484129, 0.05128229,\n",
       "       0.04230438, 0.03425662, 0.03200359, 0.03107929, 0.02809453,\n",
       "       0.02777667, 0.02756823, 0.0265869 , 0.02538456, 0.02382271,\n",
       "       0.02264831, 0.02114205, 0.02014711, 0.01770807, 0.01059392])"
      ]
     },
     "execution_count": 237,
     "metadata": {},
     "output_type": "execute_result"
    }
   ],
   "source": [
    "pca.explained_variance_ratio_"
   ]
  },
  {
   "cell_type": "code",
   "execution_count": 238,
   "metadata": {},
   "outputs": [
    {
     "data": {
      "text/plain": [
       "0.9648392188345213"
      ]
     },
     "execution_count": 238,
     "metadata": {},
     "output_type": "execute_result"
    }
   ],
   "source": [
    "sum(pca.explained_variance_ratio_)"
   ]
  },
  {
   "cell_type": "code",
   "execution_count": 239,
   "metadata": {},
   "outputs": [
    {
     "data": {
      "text/plain": [
       "(330994, 20)"
      ]
     },
     "execution_count": 239,
     "metadata": {},
     "output_type": "execute_result"
    }
   ],
   "source": [
    "X_train_pca.shape"
   ]
  },
  {
   "cell_type": "code",
   "execution_count": 240,
   "metadata": {},
   "outputs": [
    {
     "data": {
      "text/plain": [
       "(163027, 20)"
      ]
     },
     "execution_count": 240,
     "metadata": {},
     "output_type": "execute_result"
    }
   ],
   "source": [
    "X_test_pca.shape"
   ]
  },
  {
   "cell_type": "code",
   "execution_count": 241,
   "metadata": {},
   "outputs": [
    {
     "data": {
      "text/plain": [
       "(330994, 16)"
      ]
     },
     "execution_count": 241,
     "metadata": {},
     "output_type": "execute_result"
    }
   ],
   "source": [
    "X_train_only_categorical.shape"
   ]
  },
  {
   "cell_type": "code",
   "execution_count": 242,
   "metadata": {},
   "outputs": [
    {
     "data": {
      "text/plain": [
       "(163027, 16)"
      ]
     },
     "execution_count": 242,
     "metadata": {},
     "output_type": "execute_result"
    }
   ],
   "source": [
    "X_test_only_categorical.shape"
   ]
  },
  {
   "cell_type": "markdown",
   "metadata": {},
   "source": [
    "Potrebno je nadovezati podatke dobijene pomocu PCA sa enkodiranim kategorickim podacima."
   ]
  },
  {
   "cell_type": "code",
   "execution_count": 243,
   "metadata": {},
   "outputs": [],
   "source": [
    "X_train_pca = np.concatenate([X_train_pca, X_train_only_categorical], axis=1)"
   ]
  },
  {
   "cell_type": "code",
   "execution_count": 244,
   "metadata": {},
   "outputs": [
    {
     "data": {
      "text/plain": [
       "(330994, 36)"
      ]
     },
     "execution_count": 244,
     "metadata": {},
     "output_type": "execute_result"
    }
   ],
   "source": [
    "X_train_pca.shape"
   ]
  },
  {
   "cell_type": "code",
   "execution_count": 245,
   "metadata": {},
   "outputs": [],
   "source": [
    "X_test_pca = np.concatenate([X_test_pca, X_test_only_categorical], axis=1)"
   ]
  },
  {
   "cell_type": "code",
   "execution_count": 246,
   "metadata": {},
   "outputs": [
    {
     "data": {
      "text/plain": [
       "(163027, 36)"
      ]
     },
     "execution_count": 246,
     "metadata": {},
     "output_type": "execute_result"
    }
   ],
   "source": [
    "X_test_pca.shape"
   ]
  },
  {
   "cell_type": "markdown",
   "metadata": {},
   "source": [
    "Zbog treniranja mreze koji ne koristi podatke smanjene dimenzije, kao i zbog kasnije upotrebe RFE, potrebno je enkodirati i standardizovati pocetni trening skup (koji nije podeljen na kategoricke i numericke)."
   ]
  },
  {
   "cell_type": "code",
   "execution_count": 247,
   "metadata": {},
   "outputs": [],
   "source": [
    "encoder = ce.BinaryEncoder(X_train, cols = ['protocol_type', 'service', 'flag'])\n",
    "X_train = encoder.fit_transform(X_train)"
   ]
  },
  {
   "cell_type": "code",
   "execution_count": 248,
   "metadata": {},
   "outputs": [],
   "source": [
    "X_test = encoder.transform(X_test)"
   ]
  },
  {
   "cell_type": "code",
   "execution_count": 249,
   "metadata": {},
   "outputs": [],
   "source": [
    "scaler = preprocessing.StandardScaler()\n",
    "scaler.fit(X_train)\n",
    "X_train = scaler.transform(X_train)\n",
    "X_test = scaler.transform(X_test)"
   ]
  },
  {
   "cell_type": "markdown",
   "metadata": {},
   "source": [
    "Formiramo i treniramo mrezu."
   ]
  },
  {
   "cell_type": "code",
   "execution_count": 250,
   "metadata": {},
   "outputs": [],
   "source": [
    "model = Sequential()\n",
    "model.add(Dense(units=150, input_dim=X_train.shape[1], activation='relu'))\n",
    "model.add(Dense(units=50, activation='relu'))\n",
    "model.add(Dense(units=12, activation='softmax'))"
   ]
  },
  {
   "cell_type": "code",
   "execution_count": 251,
   "metadata": {},
   "outputs": [],
   "source": [
    "model.compile(optimizers.Adam(learning_rate = 0.0001), loss=losses.CategoricalCrossentropy(), metrics=['accuracy'])"
   ]
  },
  {
   "cell_type": "code",
   "execution_count": 252,
   "metadata": {},
   "outputs": [
    {
     "name": "stdout",
     "output_type": "stream",
     "text": [
      "Train on 264795 samples, validate on 66199 samples\n",
      "Epoch 1/30\n",
      "264795/264795 [==============================] - 45s 171us/step - loss: 0.2008 - accuracy: 0.9768 - val_loss: 0.0225 - val_accuracy: 0.9950\n",
      "Epoch 2/30\n",
      "264795/264795 [==============================] - 41s 153us/step - loss: 0.0135 - accuracy: 0.9972 - val_loss: 0.0104 - val_accuracy: 0.9979\n",
      "Epoch 3/30\n",
      "264795/264795 [==============================] - 39s 145us/step - loss: 0.0075 - accuracy: 0.9984 - val_loss: 0.0079 - val_accuracy: 0.9980\n",
      "Epoch 4/30\n",
      "264795/264795 [==============================] - 39s 149us/step - loss: 0.0060 - accuracy: 0.9988 - val_loss: 0.0059 - val_accuracy: 0.9988\n",
      "Epoch 5/30\n",
      "264795/264795 [==============================] - 41s 153us/step - loss: 0.0048 - accuracy: 0.9990 - val_loss: 0.0057 - val_accuracy: 0.9989\n",
      "Epoch 6/30\n",
      "264795/264795 [==============================] - 40s 152us/step - loss: 0.0045 - accuracy: 0.9991 - val_loss: 0.0047 - val_accuracy: 0.9990\n",
      "Epoch 7/30\n",
      "264795/264795 [==============================] - 40s 150us/step - loss: 0.0040 - accuracy: 0.9992 - val_loss: 0.0044 - val_accuracy: 0.9992\n",
      "Epoch 8/30\n",
      "264795/264795 [==============================] - 39s 149us/step - loss: 0.0036 - accuracy: 0.9992 - val_loss: 0.0049 - val_accuracy: 0.9992\n",
      "Epoch 9/30\n",
      "264795/264795 [==============================] - 40s 149us/step - loss: 0.0033 - accuracy: 0.9993 - val_loss: 0.0039 - val_accuracy: 0.9992\n",
      "Epoch 10/30\n",
      "264795/264795 [==============================] - 39s 146us/step - loss: 0.0032 - accuracy: 0.9993 - val_loss: 0.0036 - val_accuracy: 0.9993\n",
      "Epoch 11/30\n",
      "264795/264795 [==============================] - 39s 147us/step - loss: 0.0029 - accuracy: 0.9993 - val_loss: 0.0035 - val_accuracy: 0.9993\n",
      "Epoch 12/30\n",
      "264795/264795 [==============================] - 39s 147us/step - loss: 0.0029 - accuracy: 0.9994 - val_loss: 0.0032 - val_accuracy: 0.9993\n",
      "Epoch 13/30\n",
      "264795/264795 [==============================] - 51s 193us/step - loss: 0.0027 - accuracy: 0.9994 - val_loss: 0.0037 - val_accuracy: 0.9993\n",
      "Epoch 14/30\n",
      "264795/264795 [==============================] - 85s 320us/step - loss: 0.0025 - accuracy: 0.9994 - val_loss: 0.0028 - val_accuracy: 0.9994\n",
      "Epoch 15/30\n",
      "264795/264795 [==============================] - 76s 286us/step - loss: 0.0026 - accuracy: 0.9995 - val_loss: 0.0029 - val_accuracy: 0.9994\n",
      "Epoch 16/30\n",
      "264795/264795 [==============================] - 48s 182us/step - loss: 0.0023 - accuracy: 0.9995 - val_loss: 0.0033 - val_accuracy: 0.9994\n",
      "Epoch 17/30\n",
      "264795/264795 [==============================] - 39s 148us/step - loss: 0.0024 - accuracy: 0.9995 - val_loss: 0.0027 - val_accuracy: 0.9994\n",
      "Epoch 18/30\n",
      "264795/264795 [==============================] - 39s 148us/step - loss: 0.0023 - accuracy: 0.9995 - val_loss: 0.0032 - val_accuracy: 0.9993\n",
      "Epoch 19/30\n",
      "264795/264795 [==============================] - 40s 152us/step - loss: 0.0024 - accuracy: 0.9995 - val_loss: 0.0026 - val_accuracy: 0.9994\n",
      "Epoch 20/30\n",
      "264795/264795 [==============================] - 39s 148us/step - loss: 0.0021 - accuracy: 0.9995 - val_loss: 0.0030 - val_accuracy: 0.9994\n",
      "Epoch 21/30\n",
      "264795/264795 [==============================] - 32s 121us/step - loss: 0.0021 - accuracy: 0.9995 - val_loss: 0.0025 - val_accuracy: 0.9994\n",
      "Epoch 22/30\n",
      "264795/264795 [==============================] - 28s 106us/step - loss: 0.0021 - accuracy: 0.9995 - val_loss: 0.0032 - val_accuracy: 0.9994\n",
      "Epoch 23/30\n",
      "264795/264795 [==============================] - 23s 86us/step - loss: 0.0021 - accuracy: 0.9995 - val_loss: 0.0023 - val_accuracy: 0.9995\n",
      "Epoch 24/30\n",
      "264795/264795 [==============================] - 21s 81us/step - loss: 0.0020 - accuracy: 0.9995 - val_loss: 0.0025 - val_accuracy: 0.9994\n",
      "Epoch 25/30\n",
      "264795/264795 [==============================] - 23s 87us/step - loss: 0.0019 - accuracy: 0.9996 - val_loss: 0.0025 - val_accuracy: 0.9995\n",
      "Epoch 26/30\n",
      "264795/264795 [==============================] - 30s 113us/step - loss: 0.0018 - accuracy: 0.9996 - val_loss: 0.0023 - val_accuracy: 0.9995\n",
      "Epoch 27/30\n",
      "264795/264795 [==============================] - 24s 89us/step - loss: 0.0019 - accuracy: 0.9995 - val_loss: 0.0038 - val_accuracy: 0.9994\n",
      "Epoch 28/30\n",
      "264795/264795 [==============================] - 25s 94us/step - loss: 0.0019 - accuracy: 0.9995 - val_loss: 0.0023 - val_accuracy: 0.9995\n",
      "Epoch 29/30\n",
      "264795/264795 [==============================] - 26s 98us/step - loss: 0.0016 - accuracy: 0.9996 - val_loss: 0.0026 - val_accuracy: 0.9991\n",
      "Epoch 30/30\n",
      "264795/264795 [==============================] - 23s 88us/step - loss: 0.0020 - accuracy: 0.9996 - val_loss: 0.0024 - val_accuracy: 0.9995\n"
     ]
    }
   ],
   "source": [
    "batch_size = 128\n",
    "epochs = 30\n",
    "\n",
    "history = model.fit(X_train, y_train, batch_size=batch_size, epochs=epochs, verbose=1, validation_split = 0.2)"
   ]
  },
  {
   "cell_type": "code",
   "execution_count": 253,
   "metadata": {},
   "outputs": [
    {
     "name": "stdout",
     "output_type": "stream",
     "text": [
      "163027/163027 [==============================] - 24s 145us/step\n",
      "Test loss: 0.002280461698022376\n",
      "Test accuracy: 0.9994847774505615\n"
     ]
    }
   ],
   "source": [
    "score = model.evaluate(X_test, y_test)\n",
    "print('Test loss:', score[0])\n",
    "print('Test accuracy:', score[1])"
   ]
  },
  {
   "cell_type": "code",
   "execution_count": 254,
   "metadata": {},
   "outputs": [
    {
     "data": {
      "image/png": "[encoded data removed]",
      "text/plain": [
       "<Figure size 432x288 with 1 Axes>"
      ]
     },
     "metadata": {
      "needs_background": "light"
     },
     "output_type": "display_data"
    }
   ],
   "source": [
    "epochs = history.epoch\n",
    "\n",
    "loss = history.history['loss']\n",
    "validation_loss = history.history['val_loss']\n",
    "\n",
    "plt.title('Loss')\n",
    "plt.xlabel('Epochs')\n",
    "plt.ylabel('loss')\n",
    "plt.plot(epochs, loss, c='red', label = 'training')\n",
    "plt.plot(epochs, validation_loss, c='orange', label='validation')\n",
    "plt.legend(loc = 'best')\n",
    "plt.show()"
   ]
  },
  {
   "cell_type": "code",
   "execution_count": 255,
   "metadata": {
    "scrolled": true
   },
   "outputs": [
    {
     "data": {
      "image/png": "[encoded data removed]",
      "text/plain": [
       "<Figure size 432x288 with 1 Axes>"
      ]
     },
     "metadata": {
      "needs_background": "light"
     },
     "output_type": "display_data"
    }
   ],
   "source": [
    "acc = history.history['accuracy']\n",
    "validation_acc = history.history['val_accuracy']\n",
    "\n",
    "plt.title('Accuracy')\n",
    "plt.xlabel('epochs')\n",
    "plt.ylabel('acccuracy')\n",
    "plt.plot(epochs, acc, c='red', label = 'training')\n",
    "plt.plot(epochs, validation_acc, c = 'orange', label = 'validation')\n",
    "plt.legend(loc = 'best')\n",
    "plt.show()"
   ]
  },
  {
   "cell_type": "markdown",
   "metadata": {},
   "source": [
    "Na osnovu grafika funkcije gubitka i tacnosti vidimo da model veoma dobro radi i na trening i na validacionom skupu."
   ]
  },
  {
   "cell_type": "code",
   "execution_count": 256,
   "metadata": {},
   "outputs": [],
   "source": [
    "y_predicted = model.predict(X_test)\n",
    "y_predicted_classes = np.argmax(y_predicted, axis = 1)"
   ]
  },
  {
   "cell_type": "code",
   "execution_count": 257,
   "metadata": {},
   "outputs": [],
   "source": [
    "y_test_classes = np.argmax(y_test, axis = 1)"
   ]
  },
  {
   "cell_type": "code",
   "execution_count": 258,
   "metadata": {},
   "outputs": [],
   "source": [
    "from sklearn.metrics import confusion_matrix, classification_report"
   ]
  },
  {
   "cell_type": "code",
   "execution_count": 271,
   "metadata": {},
   "outputs": [
    {
     "name": "stdout",
     "output_type": "stream",
     "text": [
      "[[  727     0     0     0     0     0     0     0     0     0     0     0]\n",
      " [    0   407     0     2     2     0     0     0     1     0     0     0]\n",
      " [    0     0 35375     0     1     0     0     0     0     0     0     0]\n",
      " [    0     1     0    72     3     0     0     0     0     0     0     0]\n",
      " [    3     6     2     0 32071     2     0     1     4     0     0    13]\n",
      " [    0     0     0     0    11    47     0     0     0     0     0     1]\n",
      " [    0     0     0     0     0     0    87     0     0     0     0     0]\n",
      " [    0     0     1     0     1     0     0   341     0     0     0     0]\n",
      " [    0     0     0     2     5     0     0     0   517     0     0     0]\n",
      " [    0     0     0     0     1     0     0     0     0 92660     0     0]\n",
      " [    0     0     0     0     0     0     0     0     0     0   323     0]\n",
      " [    0     0     0     0    21     0     0     0     0     0     0   316]]\n"
     ]
    }
   ],
   "source": [
    "cm = confusion_matrix(y_test_classes, y_predicted_classes, labels = [0,1,2,3,4,5,6,7,8,9,10,11])\n",
    "print(cm)"
   ]
  },
  {
   "cell_type": "code",
   "execution_count": 151,
   "metadata": {},
   "outputs": [
    {
     "name": "stdout",
     "output_type": "stream",
     "text": [
      "              precision    recall  f1-score   support\n",
      "\n",
      "           0       1.00      1.00      1.00       727\n",
      "           1       0.98      0.98      0.98       412\n",
      "           2       1.00      1.00      1.00     35376\n",
      "           3       0.95      0.95      0.95        76\n",
      "           4       1.00      1.00      1.00     32102\n",
      "           5       0.98      0.68      0.80        59\n",
      "           6       1.00      1.00      1.00        87\n",
      "           7       0.99      0.99      0.99       343\n",
      "           8       0.98      0.98      0.98       524\n",
      "           9       1.00      1.00      1.00     92661\n",
      "          10       1.00      1.00      1.00       323\n",
      "          11       0.97      0.93      0.95       337\n",
      "\n",
      "    accuracy                           1.00    163027\n",
      "   macro avg       0.99      0.96      0.97    163027\n",
      "weighted avg       1.00      1.00      1.00    163027\n",
      "\n"
     ]
    }
   ],
   "source": [
    "print(classification_report(y_test_classes, y_predicted_classes))"
   ]
  },
  {
   "cell_type": "code",
   "execution_count": 262,
   "metadata": {},
   "outputs": [],
   "source": [
    "import pylab as pl"
   ]
  },
  {
   "cell_type": "code",
   "execution_count": 267,
   "metadata": {
    "scrolled": true
   },
   "outputs": [
    {
     "data": {
      "image/png": "[encoded data removed]",
      "text/plain": [
       "<Figure size 288x288 with 2 Axes>"
      ]
     },
     "metadata": {
      "needs_background": "light"
     },
     "output_type": "display_data"
    }
   ],
   "source": [
    "pl.matshow(confusion_matrix(y_test_classes, y_predicted_classes))\n",
    "pl.colorbar()\n",
    "pl.show()"
   ]
  },
  {
   "cell_type": "markdown",
   "metadata": {},
   "source": [
    "Rezultati koje daje matrica konfuzije i izvestaj klasifikovanja su zadovoljavajuci. Pogledajmo na kojim klasama model gresi."
   ]
  },
  {
   "cell_type": "code",
   "execution_count": 272,
   "metadata": {},
   "outputs": [
    {
     "data": {
      "text/plain": [
       "21"
      ]
     },
     "execution_count": 272,
     "metadata": {},
     "output_type": "execute_result"
    }
   ],
   "source": [
    "cm[11][4]"
   ]
  },
  {
   "cell_type": "code",
   "execution_count": 274,
   "metadata": {},
   "outputs": [
    {
     "data": {
      "text/plain": [
       "'warezclient.'"
      ]
     },
     "execution_count": 274,
     "metadata": {},
     "output_type": "execute_result"
    }
   ],
   "source": [
    "d[11]"
   ]
  },
  {
   "cell_type": "code",
   "execution_count": 275,
   "metadata": {},
   "outputs": [
    {
     "data": {
      "text/plain": [
       "'normal.'"
      ]
     },
     "execution_count": 275,
     "metadata": {},
     "output_type": "execute_result"
    }
   ],
   "source": [
    "d[4]"
   ]
  },
  {
   "cell_type": "markdown",
   "metadata": {},
   "source": [
    "21 instancu koja je zapravo napad 'warezclient.' model je klasifikovao kao normalnu."
   ]
  },
  {
   "cell_type": "code",
   "execution_count": 276,
   "metadata": {},
   "outputs": [
    {
     "data": {
      "text/plain": [
       "13"
      ]
     },
     "execution_count": 276,
     "metadata": {},
     "output_type": "execute_result"
    }
   ],
   "source": [
    "cm[4][11]"
   ]
  },
  {
   "cell_type": "markdown",
   "metadata": {},
   "source": [
    "13 instanci koje su zapravo normalna konekcija model je klasifikovao kao napad 'warezclient.'"
   ]
  },
  {
   "cell_type": "code",
   "execution_count": 277,
   "metadata": {},
   "outputs": [
    {
     "data": {
      "text/plain": [
       "11"
      ]
     },
     "execution_count": 277,
     "metadata": {},
     "output_type": "execute_result"
    }
   ],
   "source": [
    "cm[5][4]"
   ]
  },
  {
   "cell_type": "code",
   "execution_count": 278,
   "metadata": {},
   "outputs": [
    {
     "data": {
      "text/plain": [
       "'other_attacks.'"
      ]
     },
     "execution_count": 278,
     "metadata": {},
     "output_type": "execute_result"
    }
   ],
   "source": [
    "d[5]"
   ]
  },
  {
   "cell_type": "markdown",
   "metadata": {},
   "source": [
    "11 instanci koje pripadaju klasi 'other_attacks.' model je klasifikovao kao normalnu."
   ]
  },
  {
   "cell_type": "code",
   "execution_count": 279,
   "metadata": {},
   "outputs": [
    {
     "data": {
      "text/plain": [
       "6"
      ]
     },
     "execution_count": 279,
     "metadata": {},
     "output_type": "execute_result"
    }
   ],
   "source": [
    "cm[4][1]"
   ]
  },
  {
   "cell_type": "code",
   "execution_count": 281,
   "metadata": {},
   "outputs": [
    {
     "data": {
      "text/plain": [
       "'ipsweep.'"
      ]
     },
     "execution_count": 281,
     "metadata": {},
     "output_type": "execute_result"
    }
   ],
   "source": [
    "d[1]"
   ]
  },
  {
   "cell_type": "markdown",
   "metadata": {},
   "source": [
    "6 instanci koje pripadaju normalnoj konekciji model je klasifikovao kao napad 'ipsweep.'"
   ]
  },
  {
   "cell_type": "code",
   "execution_count": 282,
   "metadata": {},
   "outputs": [
    {
     "data": {
      "text/plain": [
       "5"
      ]
     },
     "execution_count": 282,
     "metadata": {},
     "output_type": "execute_result"
    }
   ],
   "source": [
    "cm[8][4]"
   ]
  },
  {
   "cell_type": "code",
   "execution_count": 283,
   "metadata": {},
   "outputs": [
    {
     "data": {
      "text/plain": [
       "'satan.'"
      ]
     },
     "execution_count": 283,
     "metadata": {},
     "output_type": "execute_result"
    }
   ],
   "source": [
    "d[8]"
   ]
  },
  {
   "cell_type": "markdown",
   "metadata": {},
   "source": [
    "5 instanci koje pripadaju napadu 'satan.' model je klasifikovao kao normalnu konekciju."
   ]
  },
  {
   "cell_type": "markdown",
   "metadata": {},
   "source": [
    "## Model uz primenu PCA"
   ]
  },
  {
   "cell_type": "markdown",
   "metadata": {},
   "source": [
    "Formiramo i treniramo mrezu nad podacima nad kojima je prethodno primenjen PCA algoritam."
   ]
  },
  {
   "cell_type": "code",
   "execution_count": 284,
   "metadata": {},
   "outputs": [],
   "source": [
    "modelPCA = Sequential()\n",
    "modelPCA.add(Dense(units=150, input_dim=X_train_pca.shape[1], activation='relu'))\n",
    "modelPCA.add(Dense(units=50, activation='relu'))\n",
    "modelPCA.add(Dense(units=12, activation='softmax'))"
   ]
  },
  {
   "cell_type": "code",
   "execution_count": 285,
   "metadata": {},
   "outputs": [],
   "source": [
    "modelPCA.compile(optimizers.Adam(learning_rate = 0.0001), loss=losses.CategoricalCrossentropy(), metrics=['accuracy'])"
   ]
  },
  {
   "cell_type": "code",
   "execution_count": 286,
   "metadata": {},
   "outputs": [
    {
     "name": "stdout",
     "output_type": "stream",
     "text": [
      "Train on 264795 samples, validate on 66199 samples\n",
      "Epoch 1/30\n",
      "264795/264795 [==============================] - 43s 161us/step - loss: 0.2293 - accuracy: 0.9757 - val_loss: 0.0292 - val_accuracy: 0.9911\n",
      "Epoch 2/30\n",
      "264795/264795 [==============================] - 39s 146us/step - loss: 0.0191 - accuracy: 0.9948 - val_loss: 0.0139 - val_accuracy: 0.9966\n",
      "Epoch 3/30\n",
      "264795/264795 [==============================] - 37s 140us/step - loss: 0.0112 - accuracy: 0.9970 - val_loss: 0.0101 - val_accuracy: 0.9975\n",
      "Epoch 4/30\n",
      "264795/264795 [==============================] - 38s 144us/step - loss: 0.0086 - accuracy: 0.9979 - val_loss: 0.0082 - val_accuracy: 0.9981\n",
      "Epoch 5/30\n",
      "264795/264795 [==============================] - 39s 149us/step - loss: 0.0075 - accuracy: 0.9982 - val_loss: 0.0073 - val_accuracy: 0.9982\n",
      "Epoch 6/30\n",
      "264795/264795 [==============================] - 37s 141us/step - loss: 0.0065 - accuracy: 0.9985 - val_loss: 0.0069 - val_accuracy: 0.9984\n",
      "Epoch 7/30\n",
      "264795/264795 [==============================] - 37s 140us/step - loss: 0.0061 - accuracy: 0.9986 - val_loss: 0.0065 - val_accuracy: 0.9985\n",
      "Epoch 8/30\n",
      "264795/264795 [==============================] - 38s 144us/step - loss: 0.0056 - accuracy: 0.9987 - val_loss: 0.0054 - val_accuracy: 0.9984\n",
      "Epoch 9/30\n",
      "264795/264795 [==============================] - 36s 137us/step - loss: 0.0056 - accuracy: 0.9987 - val_loss: 0.0058 - val_accuracy: 0.9981\n",
      "Epoch 10/30\n",
      "264795/264795 [==============================] - 36s 138us/step - loss: 0.0051 - accuracy: 0.9988 - val_loss: 0.0055 - val_accuracy: 0.9986\n",
      "Epoch 11/30\n",
      "264795/264795 [==============================] - 38s 144us/step - loss: 0.0051 - accuracy: 0.9988 - val_loss: 0.0055 - val_accuracy: 0.9984\n",
      "Epoch 12/30\n",
      "264795/264795 [==============================] - 36s 137us/step - loss: 0.0049 - accuracy: 0.9989 - val_loss: 0.0046 - val_accuracy: 0.9988\n",
      "Epoch 13/30\n",
      "264795/264795 [==============================] - 37s 138us/step - loss: 0.0046 - accuracy: 0.9989 - val_loss: 0.0050 - val_accuracy: 0.9987\n",
      "Epoch 14/30\n",
      "264795/264795 [==============================] - 38s 144us/step - loss: 0.0044 - accuracy: 0.9989 - val_loss: 0.0044 - val_accuracy: 0.9990\n",
      "Epoch 15/30\n",
      "264795/264795 [==============================] - 37s 140us/step - loss: 0.0046 - accuracy: 0.9990 - val_loss: 0.0043 - val_accuracy: 0.9989\n",
      "Epoch 16/30\n",
      "264795/264795 [==============================] - 37s 139us/step - loss: 0.0042 - accuracy: 0.9990 - val_loss: 0.0045 - val_accuracy: 0.9987\n",
      "Epoch 17/30\n",
      "264795/264795 [==============================] - 30s 114us/step - loss: 0.0042 - accuracy: 0.9990 - val_loss: 0.0040 - val_accuracy: 0.9989\n",
      "Epoch 18/30\n",
      "264795/264795 [==============================] - 27s 101us/step - loss: 0.0040 - accuracy: 0.9990 - val_loss: 0.0046 - val_accuracy: 0.9989\n",
      "Epoch 19/30\n",
      "264795/264795 [==============================] - 26s 97us/step - loss: 0.0040 - accuracy: 0.9991 - val_loss: 0.0037 - val_accuracy: 0.9990\n",
      "Epoch 20/30\n",
      "264795/264795 [==============================] - 27s 102us/step - loss: 0.0038 - accuracy: 0.9990 - val_loss: 0.0039 - val_accuracy: 0.9988\n",
      "Epoch 21/30\n",
      "264795/264795 [==============================] - 26s 98us/step - loss: 0.0039 - accuracy: 0.9990 - val_loss: 0.0033 - val_accuracy: 0.9990\n",
      "Epoch 22/30\n",
      "264795/264795 [==============================] - 29s 111us/step - loss: 0.0037 - accuracy: 0.9990 - val_loss: 0.0042 - val_accuracy: 0.9990\n",
      "Epoch 23/30\n",
      "264795/264795 [==============================] - 27s 103us/step - loss: 0.0036 - accuracy: 0.9991 - val_loss: 0.0035 - val_accuracy: 0.9991\n",
      "Epoch 24/30\n",
      "264795/264795 [==============================] - 27s 103us/step - loss: 0.0035 - accuracy: 0.9991 - val_loss: 0.0033 - val_accuracy: 0.9990\n",
      "Epoch 25/30\n",
      "264795/264795 [==============================] - 27s 101us/step - loss: 0.0035 - accuracy: 0.9991 - val_loss: 0.0031 - val_accuracy: 0.9991\n",
      "Epoch 26/30\n",
      "264795/264795 [==============================] - 28s 107us/step - loss: 0.0035 - accuracy: 0.9991 - val_loss: 0.0035 - val_accuracy: 0.9992\n",
      "Epoch 27/30\n",
      "264795/264795 [==============================] - 28s 107us/step - loss: 0.0034 - accuracy: 0.9991 - val_loss: 0.0033 - val_accuracy: 0.9990\n",
      "Epoch 28/30\n",
      "264795/264795 [==============================] - 38s 143us/step - loss: 0.0032 - accuracy: 0.9992 - val_loss: 0.0039 - val_accuracy: 0.9990\n",
      "Epoch 29/30\n",
      "264795/264795 [==============================] - 39s 147us/step - loss: 0.0032 - accuracy: 0.9992 - val_loss: 0.0030 - val_accuracy: 0.9991\n",
      "Epoch 30/30\n",
      "264795/264795 [==============================] - 36s 136us/step - loss: 0.0032 - accuracy: 0.9992 - val_loss: 0.0035 - val_accuracy: 0.9992\n"
     ]
    }
   ],
   "source": [
    "batch_size = 128\n",
    "epochs = 30\n",
    "\n",
    "historyPCA = modelPCA.fit(X_train_pca, y_train, batch_size=batch_size, epochs=epochs, verbose=1, validation_split = 0.2)"
   ]
  },
  {
   "cell_type": "code",
   "execution_count": 287,
   "metadata": {},
   "outputs": [
    {
     "name": "stdout",
     "output_type": "stream",
     "text": [
      "163027/163027 [==============================] - 40s 247us/step\n",
      "Test loss: 0.0039198086932115675\n",
      "Test accuracy: 0.9990983009338379\n"
     ]
    }
   ],
   "source": [
    "score = modelPCA.evaluate(X_test_pca, y_test)\n",
    "print('Test loss:', score[0])\n",
    "print('Test accuracy:', score[1])"
   ]
  },
  {
   "cell_type": "code",
   "execution_count": 288,
   "metadata": {},
   "outputs": [
    {
     "data": {
      "image/png": "[encoded data removed]",
      "text/plain": [
       "<Figure size 432x288 with 1 Axes>"
      ]
     },
     "metadata": {
      "needs_background": "light"
     },
     "output_type": "display_data"
    }
   ],
   "source": [
    "epochs = historyPCA.epoch\n",
    "\n",
    "loss = historyPCA.history['loss']\n",
    "validation_loss = historyPCA.history['val_loss']\n",
    "\n",
    "plt.title('Loss')\n",
    "plt.xlabel('Epochs')\n",
    "plt.ylabel('loss')\n",
    "plt.plot(epochs, loss, c='red', label = 'training')\n",
    "plt.plot(epochs, validation_loss, c='orange', label='validation')\n",
    "plt.legend(loc = 'best')\n",
    "plt.show()"
   ]
  },
  {
   "cell_type": "code",
   "execution_count": 289,
   "metadata": {},
   "outputs": [
    {
     "data": {
      "image/png": "[encoded data removed]",
      "text/plain": [
       "<Figure size 432x288 with 1 Axes>"
      ]
     },
     "metadata": {
      "needs_background": "light"
     },
     "output_type": "display_data"
    }
   ],
   "source": [
    "acc = historyPCA.history['accuracy']\n",
    "validation_acc = historyPCA.history['val_accuracy']\n",
    "\n",
    "plt.title('Accuracy')\n",
    "plt.xlabel('epochs')\n",
    "plt.ylabel('acccuracy')\n",
    "plt.plot(epochs, acc, c='red', label = 'training')\n",
    "plt.plot(epochs, validation_acc, c = 'orange', label = 'validation')\n",
    "plt.legend(loc = 'best')\n",
    "plt.show()"
   ]
  },
  {
   "cell_type": "markdown",
   "metadata": {},
   "source": [
    "Na osnovu grafika funkcije gubitka i tacnosti vidimo da model dobro radi i na trening i na validacionim podacima."
   ]
  },
  {
   "cell_type": "code",
   "execution_count": 290,
   "metadata": {},
   "outputs": [],
   "source": [
    "y_predicted_pca = modelPCA.predict(X_test_pca)\n",
    "y_predicted_classes_pca = np.argmax(y_predicted_pca, axis = 1)"
   ]
  },
  {
   "cell_type": "code",
   "execution_count": 291,
   "metadata": {},
   "outputs": [],
   "source": [
    "y_test_classes = np.argmax(y_test, axis = 1)"
   ]
  },
  {
   "cell_type": "code",
   "execution_count": 293,
   "metadata": {},
   "outputs": [
    {
     "name": "stdout",
     "output_type": "stream",
     "text": [
      "[[  724     0     0     0     3     0     0     0     0     0     0     0]\n",
      " [    0   407     0     2     3     0     0     0     0     0     0     0]\n",
      " [    0     0 35375     1     0     0     0     0     0     0     0     0]\n",
      " [    0     1     0    64    11     0     0     0     0     0     0     0]\n",
      " [    9    11     3     0 32041     5     0     2     1     1     0    29]\n",
      " [    0     0     1     0    13    42     0     0     0     0     0     3]\n",
      " [    0     0     0     0     3     0    84     0     0     0     0     0]\n",
      " [    0     0     2     0     1     0     0   340     0     0     0     0]\n",
      " [    0     0     0     0    10     0     0     7   507     0     0     0]\n",
      " [    0     0     0     0     2     0     0     0     0 92659     0     0]\n",
      " [    0     0     0     0     0     0     0     0     0     0   323     0]\n",
      " [    0     1     0     0    22     0     0     0     0     0     0   314]]\n"
     ]
    }
   ],
   "source": [
    "cm_pca = confusion_matrix(y_test_classes, y_predicted_classes_pca)\n",
    "print(cm_pca)"
   ]
  },
  {
   "cell_type": "code",
   "execution_count": 294,
   "metadata": {},
   "outputs": [
    {
     "name": "stdout",
     "output_type": "stream",
     "text": [
      "              precision    recall  f1-score   support\n",
      "\n",
      "           0       0.99      1.00      0.99       727\n",
      "           1       0.97      0.99      0.98       412\n",
      "           2       1.00      1.00      1.00     35376\n",
      "           3       0.96      0.84      0.90        76\n",
      "           4       1.00      1.00      1.00     32102\n",
      "           5       0.89      0.71      0.79        59\n",
      "           6       1.00      0.97      0.98        87\n",
      "           7       0.97      0.99      0.98       343\n",
      "           8       1.00      0.97      0.98       524\n",
      "           9       1.00      1.00      1.00     92661\n",
      "          10       1.00      1.00      1.00       323\n",
      "          11       0.91      0.93      0.92       337\n",
      "\n",
      "    accuracy                           1.00    163027\n",
      "   macro avg       0.97      0.95      0.96    163027\n",
      "weighted avg       1.00      1.00      1.00    163027\n",
      "\n"
     ]
    }
   ],
   "source": [
    "print(classification_report(y_test_classes, y_predicted_classes_pca))"
   ]
  },
  {
   "cell_type": "code",
   "execution_count": 295,
   "metadata": {
    "scrolled": true
   },
   "outputs": [
    {
     "data": {
      "image/png": "[encoded data removed]",
      "text/plain": [
       "<Figure size 288x288 with 2 Axes>"
      ]
     },
     "metadata": {
      "needs_background": "light"
     },
     "output_type": "display_data"
    }
   ],
   "source": [
    "pl.matshow(confusion_matrix(y_test_classes, y_predicted_classes_pca))\n",
    "pl.colorbar()\n",
    "pl.show()"
   ]
  },
  {
   "cell_type": "markdown",
   "metadata": {},
   "source": [
    "Rezultati koje daje matrica konfuzije i izvestaj klasifikovanja su zadovoljavajuci. Pogledajmo na kojim klasama model gresi."
   ]
  },
  {
   "cell_type": "code",
   "execution_count": 296,
   "metadata": {},
   "outputs": [
    {
     "data": {
      "text/plain": [
       "29"
      ]
     },
     "execution_count": 296,
     "metadata": {},
     "output_type": "execute_result"
    }
   ],
   "source": [
    "cm_pca[4][11]"
   ]
  },
  {
   "cell_type": "code",
   "execution_count": 297,
   "metadata": {},
   "outputs": [
    {
     "data": {
      "text/plain": [
       "'normal.'"
      ]
     },
     "execution_count": 297,
     "metadata": {},
     "output_type": "execute_result"
    }
   ],
   "source": [
    "d[4]"
   ]
  },
  {
   "cell_type": "code",
   "execution_count": 298,
   "metadata": {},
   "outputs": [
    {
     "data": {
      "text/plain": [
       "'warezclient.'"
      ]
     },
     "execution_count": 298,
     "metadata": {},
     "output_type": "execute_result"
    }
   ],
   "source": [
    "d[11]"
   ]
  },
  {
   "cell_type": "markdown",
   "metadata": {},
   "source": [
    "29 instanci koje pripadaju normalnoj konekciji model je klasifikovao kao napad 'warezclient.'"
   ]
  },
  {
   "cell_type": "code",
   "execution_count": 299,
   "metadata": {
    "scrolled": true
   },
   "outputs": [
    {
     "data": {
      "text/plain": [
       "22"
      ]
     },
     "execution_count": 299,
     "metadata": {},
     "output_type": "execute_result"
    }
   ],
   "source": [
    "cm_pca[11][4]"
   ]
  },
  {
   "cell_type": "markdown",
   "metadata": {},
   "source": [
    "22 instance koje pripadaju napadu 'warezclient.' model je klasifikovao kao normalnu konekciju."
   ]
  },
  {
   "cell_type": "code",
   "execution_count": 302,
   "metadata": {},
   "outputs": [
    {
     "data": {
      "text/plain": [
       "13"
      ]
     },
     "execution_count": 302,
     "metadata": {},
     "output_type": "execute_result"
    }
   ],
   "source": [
    "cm_pca[5][4]"
   ]
  },
  {
   "cell_type": "code",
   "execution_count": 303,
   "metadata": {},
   "outputs": [
    {
     "data": {
      "text/plain": [
       "'other_attacks.'"
      ]
     },
     "execution_count": 303,
     "metadata": {},
     "output_type": "execute_result"
    }
   ],
   "source": [
    "d[5]"
   ]
  },
  {
   "cell_type": "markdown",
   "metadata": {},
   "source": [
    "13 instanci koje pripadaju napadu 'other_attacks' model je klasifikovao kao normalnu konekciju."
   ]
  },
  {
   "cell_type": "code",
   "execution_count": 300,
   "metadata": {},
   "outputs": [
    {
     "data": {
      "text/plain": [
       "11"
      ]
     },
     "execution_count": 300,
     "metadata": {},
     "output_type": "execute_result"
    }
   ],
   "source": [
    "cm_pca[3][4]"
   ]
  },
  {
   "cell_type": "code",
   "execution_count": 301,
   "metadata": {},
   "outputs": [
    {
     "data": {
      "text/plain": [
       "'nmap.'"
      ]
     },
     "execution_count": 301,
     "metadata": {},
     "output_type": "execute_result"
    }
   ],
   "source": [
    "d[3]"
   ]
  },
  {
   "cell_type": "markdown",
   "metadata": {},
   "source": [
    "11 instanci koje pripadaju napadu 'nmap' model je klasifikovao kao normalnu konekciju."
   ]
  },
  {
   "cell_type": "code",
   "execution_count": 304,
   "metadata": {},
   "outputs": [
    {
     "data": {
      "text/plain": [
       "11"
      ]
     },
     "execution_count": 304,
     "metadata": {},
     "output_type": "execute_result"
    }
   ],
   "source": [
    "cm_pca[4][1]"
   ]
  },
  {
   "cell_type": "code",
   "execution_count": 305,
   "metadata": {},
   "outputs": [
    {
     "data": {
      "text/plain": [
       "'ipsweep.'"
      ]
     },
     "execution_count": 305,
     "metadata": {},
     "output_type": "execute_result"
    }
   ],
   "source": [
    "d[1]"
   ]
  },
  {
   "cell_type": "markdown",
   "metadata": {},
   "source": [
    "11 instanci koje pripadaju normalnoj konekciji model je klasifikovao kao napad 'ipsweep.'."
   ]
  },
  {
   "cell_type": "code",
   "execution_count": 306,
   "metadata": {},
   "outputs": [
    {
     "data": {
      "text/plain": [
       "10"
      ]
     },
     "execution_count": 306,
     "metadata": {},
     "output_type": "execute_result"
    }
   ],
   "source": [
    "cm_pca[8][4]"
   ]
  },
  {
   "cell_type": "code",
   "execution_count": 307,
   "metadata": {},
   "outputs": [
    {
     "data": {
      "text/plain": [
       "'satan.'"
      ]
     },
     "execution_count": 307,
     "metadata": {},
     "output_type": "execute_result"
    }
   ],
   "source": [
    "d[8]"
   ]
  },
  {
   "cell_type": "markdown",
   "metadata": {},
   "source": [
    "10 instanci koje pripadaju napadu 'satan.' model je klasifikovao kao normalnu konekciju."
   ]
  },
  {
   "cell_type": "markdown",
   "metadata": {},
   "source": [
    "## Model uz primenu RFE"
   ]
  },
  {
   "cell_type": "code",
   "execution_count": 308,
   "metadata": {
    "scrolled": true
   },
   "outputs": [
    {
     "data": {
      "text/plain": [
       "(330994, 52)"
      ]
     },
     "execution_count": 308,
     "metadata": {},
     "output_type": "execute_result"
    }
   ],
   "source": [
    "X_train.shape"
   ]
  },
  {
   "cell_type": "code",
   "execution_count": 309,
   "metadata": {},
   "outputs": [
    {
     "data": {
      "text/plain": [
       "(330994, 12)"
      ]
     },
     "execution_count": 309,
     "metadata": {},
     "output_type": "execute_result"
    }
   ],
   "source": [
    "y_train.shape"
   ]
  },
  {
   "cell_type": "code",
   "execution_count": 310,
   "metadata": {},
   "outputs": [
    {
     "data": {
      "text/plain": [
       "(330994,)"
      ]
     },
     "execution_count": 310,
     "metadata": {},
     "output_type": "execute_result"
    }
   ],
   "source": [
    "np.argmax(y_train, axis = 1).shape"
   ]
  },
  {
   "cell_type": "code",
   "execution_count": 311,
   "metadata": {},
   "outputs": [
    {
     "data": {
      "text/plain": [
       "(163027, 52)"
      ]
     },
     "execution_count": 311,
     "metadata": {},
     "output_type": "execute_result"
    }
   ],
   "source": [
    "X_test.shape"
   ]
  },
  {
   "cell_type": "markdown",
   "metadata": {},
   "source": [
    "Formiramo model linearne regresije i prosledjujemo algoritmu RFE kao i broj atributa koje zelimo da izabere. Eksperimentalno je utvrdjeno da najbolje rezultate daje za 30 atributa. Nakon toga se podaci transformisu u skladu sa rezultatima RFE-a."
   ]
  },
  {
   "cell_type": "code",
   "execution_count": 312,
   "metadata": {},
   "outputs": [
    {
     "name": "stdout",
     "output_type": "stream",
     "text": [
      "Fitting estimator with 52 features.\n",
      "Fitting estimator with 51 features.\n",
      "Fitting estimator with 50 features.\n",
      "Fitting estimator with 49 features.\n",
      "Fitting estimator with 48 features.\n",
      "Fitting estimator with 47 features.\n",
      "Fitting estimator with 46 features.\n",
      "Fitting estimator with 45 features.\n",
      "Fitting estimator with 44 features.\n",
      "Fitting estimator with 43 features.\n",
      "Fitting estimator with 42 features.\n",
      "Fitting estimator with 41 features.\n",
      "Fitting estimator with 40 features.\n",
      "Fitting estimator with 39 features.\n",
      "Fitting estimator with 38 features.\n",
      "Fitting estimator with 37 features.\n",
      "Fitting estimator with 36 features.\n",
      "Fitting estimator with 35 features.\n",
      "Fitting estimator with 34 features.\n",
      "Fitting estimator with 33 features.\n",
      "Fitting estimator with 32 features.\n",
      "Fitting estimator with 31 features.\n"
     ]
    }
   ],
   "source": [
    "model_l = linear_model.LinearRegression()\n",
    "\n",
    "rfe = feature_selection.RFE(model_l, n_features_to_select=30, verbose=1)\n",
    "\n",
    "y_train_one_dimension = np.argmax(y_train, axis = 1)\n",
    "\n",
    "rfe.fit(X_train, y_train_one_dimension)\n",
    "\n",
    "X_train_rfe = rfe.transform(X_train)\n",
    "X_test_rfe = rfe.transform(X_test)"
   ]
  },
  {
   "cell_type": "code",
   "execution_count": 313,
   "metadata": {},
   "outputs": [
    {
     "data": {
      "text/plain": [
       "array([11, 19,  1,  1, 23, 17,  8,  6,  1,  1,  1,  1, 20, 16,  1,  1,  1,\n",
       "       10, 14,  9,  1, 13,  2, 21,  1,  1, 22,  4,  1, 18, 12, 15,  1,  1,\n",
       "        1,  1,  1,  1,  1,  1,  1,  3,  5,  7,  1,  1,  1,  1,  1,  1,  1,\n",
       "        1])"
      ]
     },
     "execution_count": 313,
     "metadata": {},
     "output_type": "execute_result"
    }
   ],
   "source": [
    "rfe.ranking_"
   ]
  },
  {
   "cell_type": "markdown",
   "metadata": {},
   "source": [
    "Formiramo i treniramo mrezu nad podacima koje smo dobili pomocu RFE algoritma."
   ]
  },
  {
   "cell_type": "code",
   "execution_count": 314,
   "metadata": {},
   "outputs": [],
   "source": [
    "modelRFE = Sequential()\n",
    "modelRFE.add(Dense(units=150, input_dim=X_train_rfe.shape[1], activation='relu'))\n",
    "modelRFE.add(Dense(units=50, activation='relu'))\n",
    "modelRFE.add(Dense(units=12, activation='softmax'))"
   ]
  },
  {
   "cell_type": "code",
   "execution_count": 315,
   "metadata": {},
   "outputs": [],
   "source": [
    "modelRFE.compile(optimizers.Adam(learning_rate = 0.0001), loss=losses.CategoricalCrossentropy(), metrics=['accuracy'])"
   ]
  },
  {
   "cell_type": "code",
   "execution_count": 316,
   "metadata": {},
   "outputs": [
    {
     "name": "stdout",
     "output_type": "stream",
     "text": [
      "Train on 264795 samples, validate on 66199 samples\n",
      "Epoch 1/30\n",
      "264795/264795 [==============================] - 42s 159us/step - loss: 0.1915 - accuracy: 0.9694 - val_loss: 0.0331 - val_accuracy: 0.9903\n",
      "Epoch 2/30\n",
      "264795/264795 [==============================] - 40s 153us/step - loss: 0.0241 - accuracy: 0.9924 - val_loss: 0.0182 - val_accuracy: 0.9940\n",
      "Epoch 3/30\n",
      "264795/264795 [==============================] - 38s 145us/step - loss: 0.0133 - accuracy: 0.9957 - val_loss: 0.0110 - val_accuracy: 0.9974\n",
      "Epoch 4/30\n",
      "264795/264795 [==============================] - 38s 144us/step - loss: 0.0085 - accuracy: 0.9979 - val_loss: 0.0083 - val_accuracy: 0.9979\n",
      "Epoch 5/30\n",
      "264795/264795 [==============================] - 39s 148us/step - loss: 0.0068 - accuracy: 0.9982 - val_loss: 0.0070 - val_accuracy: 0.9977\n",
      "Epoch 6/30\n",
      "264795/264795 [==============================] - 38s 144us/step - loss: 0.0060 - accuracy: 0.9983 - val_loss: 0.0061 - val_accuracy: 0.9983\n",
      "Epoch 7/30\n",
      "264795/264795 [==============================] - 38s 143us/step - loss: 0.0054 - accuracy: 0.9984 - val_loss: 0.0056 - val_accuracy: 0.9983\n",
      "Epoch 8/30\n",
      "264795/264795 [==============================] - 38s 145us/step - loss: 0.0051 - accuracy: 0.9985 - val_loss: 0.0051 - val_accuracy: 0.9983\n",
      "Epoch 9/30\n",
      "264795/264795 [==============================] - 40s 152us/step - loss: 0.0048 - accuracy: 0.9985 - val_loss: 0.0047 - val_accuracy: 0.9985\n",
      "Epoch 10/30\n",
      "264795/264795 [==============================] - 39s 148us/step - loss: 0.0046 - accuracy: 0.9985 - val_loss: 0.0047 - val_accuracy: 0.9987\n",
      "Epoch 11/30\n",
      "264795/264795 [==============================] - 39s 146us/step - loss: 0.0044 - accuracy: 0.9986 - val_loss: 0.0043 - val_accuracy: 0.9983\n",
      "Epoch 12/30\n",
      "264795/264795 [==============================] - 38s 144us/step - loss: 0.0042 - accuracy: 0.9987 - val_loss: 0.0045 - val_accuracy: 0.9990\n",
      "Epoch 13/30\n",
      "264795/264795 [==============================] - 38s 145us/step - loss: 0.0041 - accuracy: 0.9987 - val_loss: 0.0041 - val_accuracy: 0.9989\n",
      "Epoch 14/30\n",
      "264795/264795 [==============================] - 39s 146us/step - loss: 0.0040 - accuracy: 0.9987 - val_loss: 0.0042 - val_accuracy: 0.9984\n",
      "Epoch 15/30\n",
      "264795/264795 [==============================] - 38s 143us/step - loss: 0.0039 - accuracy: 0.9987 - val_loss: 0.0041 - val_accuracy: 0.9984\n",
      "Epoch 16/30\n",
      "264795/264795 [==============================] - 37s 142us/step - loss: 0.0037 - accuracy: 0.9988 - val_loss: 0.0039 - val_accuracy: 0.9985\n",
      "Epoch 17/30\n",
      "264795/264795 [==============================] - 39s 149us/step - loss: 0.0037 - accuracy: 0.9988 - val_loss: 0.0037 - val_accuracy: 0.9987\n",
      "Epoch 18/30\n",
      "264795/264795 [==============================] - 38s 143us/step - loss: 0.0036 - accuracy: 0.9988 - val_loss: 0.0036 - val_accuracy: 0.9990\n",
      "Epoch 19/30\n",
      "264795/264795 [==============================] - 39s 146us/step - loss: 0.0035 - accuracy: 0.9988 - val_loss: 0.0037 - val_accuracy: 0.9990\n",
      "Epoch 20/30\n",
      "264795/264795 [==============================] - 37s 141us/step - loss: 0.0034 - accuracy: 0.9989 - val_loss: 0.0036 - val_accuracy: 0.9990\n",
      "Epoch 21/30\n",
      "264795/264795 [==============================] - 37s 140us/step - loss: 0.0034 - accuracy: 0.9989 - val_loss: 0.0036 - val_accuracy: 0.9988\n",
      "Epoch 22/30\n",
      "264795/264795 [==============================] - 36s 138us/step - loss: 0.0033 - accuracy: 0.9989 - val_loss: 0.0034 - val_accuracy: 0.9991\n",
      "Epoch 23/30\n",
      "264795/264795 [==============================] - 39s 146us/step - loss: 0.0033 - accuracy: 0.9990 - val_loss: 0.0033 - val_accuracy: 0.9989\n",
      "Epoch 24/30\n",
      "264795/264795 [==============================] - 38s 145us/step - loss: 0.0032 - accuracy: 0.9989 - val_loss: 0.0033 - val_accuracy: 0.9991\n",
      "Epoch 25/30\n",
      "264795/264795 [==============================] - 39s 147us/step - loss: 0.0032 - accuracy: 0.9990 - val_loss: 0.0035 - val_accuracy: 0.9987\n",
      "Epoch 26/30\n",
      "264795/264795 [==============================] - 37s 138us/step - loss: 0.0031 - accuracy: 0.9990 - val_loss: 0.0032 - val_accuracy: 0.9991\n",
      "Epoch 27/30\n",
      "264795/264795 [==============================] - 38s 145us/step - loss: 0.0030 - accuracy: 0.9990 - val_loss: 0.0036 - val_accuracy: 0.9986\n",
      "Epoch 28/30\n",
      "264795/264795 [==============================] - 38s 145us/step - loss: 0.0031 - accuracy: 0.9989 - val_loss: 0.0033 - val_accuracy: 0.9987\n",
      "Epoch 29/30\n",
      "264795/264795 [==============================] - 38s 144us/step - loss: 0.0030 - accuracy: 0.9990 - val_loss: 0.0031 - val_accuracy: 0.9991\n",
      "Epoch 30/30\n",
      "264795/264795 [==============================] - 37s 140us/step - loss: 0.0030 - accuracy: 0.9990 - val_loss: 0.0031 - val_accuracy: 0.9989\n"
     ]
    }
   ],
   "source": [
    "batch_size = 128\n",
    "epochs = 30\n",
    "\n",
    "historyRFE = modelRFE.fit(X_train_rfe, y_train, batch_size=batch_size, epochs=epochs, verbose=1, validation_split = 0.2)"
   ]
  },
  {
   "cell_type": "code",
   "execution_count": 178,
   "metadata": {},
   "outputs": [
    {
     "name": "stdout",
     "output_type": "stream",
     "text": [
      "163027/163027 [==============================] - 37s 225us/step\n",
      "Test loss: 0.004489319530296752\n",
      "Test accuracy: 0.9984971880912781\n"
     ]
    }
   ],
   "source": [
    "scoreRFE = modelRFE.evaluate(X_test_rfe, y_test)\n",
    "print('Test loss:', scoreRFE[0])\n",
    "print('Test accuracy:', scoreRFE[1])"
   ]
  },
  {
   "cell_type": "code",
   "execution_count": 179,
   "metadata": {},
   "outputs": [
    {
     "data": {
      "image/png": "[encoded data removed]",
      "text/plain": [
       "<Figure size 432x288 with 1 Axes>"
      ]
     },
     "metadata": {
      "needs_background": "light"
     },
     "output_type": "display_data"
    }
   ],
   "source": [
    "epochs = historyRFE.epoch\n",
    "\n",
    "loss = historyRFE.history['loss']\n",
    "validation_loss = historyRFE.history['val_loss']\n",
    "\n",
    "plt.title('Loss')\n",
    "plt.xlabel('Epochs')\n",
    "plt.ylabel('loss')\n",
    "plt.plot(epochs, loss, c='red', label = 'training')\n",
    "plt.plot(epochs, validation_loss, c='orange', label='validation')\n",
    "plt.legend(loc = 'best')\n",
    "plt.show()"
   ]
  },
  {
   "cell_type": "code",
   "execution_count": 180,
   "metadata": {},
   "outputs": [
    {
     "data": {
      "image/png": "[encoded data removed]",
      "text/plain": [
       "<Figure size 432x288 with 1 Axes>"
      ]
     },
     "metadata": {
      "needs_background": "light"
     },
     "output_type": "display_data"
    }
   ],
   "source": [
    "acc = historyRFE.history['accuracy']\n",
    "validation_acc = historyRFE.history['val_accuracy']\n",
    "\n",
    "plt.title('Accuracy')\n",
    "plt.xlabel('epochs')\n",
    "plt.ylabel('acccuracy')\n",
    "plt.plot(epochs, acc, c='red', label = 'training')\n",
    "plt.plot(epochs, validation_acc, c = 'orange', label = 'validation')\n",
    "plt.legend(loc = 'best')\n",
    "plt.show()"
   ]
  },
  {
   "cell_type": "markdown",
   "metadata": {},
   "source": [
    "Na osnovu grafika funkcije gubitka i tacnosti vidimo da model dobro radi i na trening i na validacionim podacima."
   ]
  },
  {
   "cell_type": "code",
   "execution_count": 181,
   "metadata": {},
   "outputs": [],
   "source": [
    "y_predicted_rfe = modelRFE.predict(X_test_rfe)\n",
    "y_predicted_classes_rfe = np.argmax(y_predicted_rfe, axis = 1)"
   ]
  },
  {
   "cell_type": "code",
   "execution_count": 321,
   "metadata": {},
   "outputs": [
    {
     "name": "stdout",
     "output_type": "stream",
     "text": [
      "[[  725     0     0     0     0     2     0     0     0     0     0     0]\n",
      " [    0   382     0    26     3     0     0     0     1     0     0     0]\n",
      " [    0     0 35372     0     1     2     0     1     0     0     0     0]\n",
      " [    0     1     0    72     3     0     0     0     0     0     0     0]\n",
      " [    2     3     2     3 32076     4     0     1     7     0     0     4]\n",
      " [    0     0     1     0    19    37     0     0     0     0     0     2]\n",
      " [    0     0     0     0     0     0    87     0     0     0     0     0]\n",
      " [    0     0     0     0     3     0     0   340     0     0     0     0]\n",
      " [    1     0     0     2     6     0     0     0   515     0     0     0]\n",
      " [    0     0     0     0    17     0     0     0     0 92644     0     0]\n",
      " [    0     0     0     0     0     0     0     0     0     0   323     0]\n",
      " [    0     0     0     0   128     0     0     0     0     0     0   209]]\n"
     ]
    }
   ],
   "source": [
    "cm_rfe = confusion_matrix(y_test_classes, y_predicted_classes_rfe)\n",
    "print(cm_rfe)"
   ]
  },
  {
   "cell_type": "code",
   "execution_count": 183,
   "metadata": {},
   "outputs": [
    {
     "name": "stdout",
     "output_type": "stream",
     "text": [
      "              precision    recall  f1-score   support\n",
      "\n",
      "           0       1.00      1.00      1.00       727\n",
      "           1       0.99      0.93      0.96       412\n",
      "           2       1.00      1.00      1.00     35376\n",
      "           3       0.70      0.95      0.80        76\n",
      "           4       0.99      1.00      1.00     32102\n",
      "           5       0.82      0.63      0.71        59\n",
      "           6       1.00      1.00      1.00        87\n",
      "           7       0.99      0.99      0.99       343\n",
      "           8       0.98      0.98      0.98       524\n",
      "           9       1.00      1.00      1.00     92661\n",
      "          10       1.00      1.00      1.00       323\n",
      "          11       0.97      0.62      0.76       337\n",
      "\n",
      "    accuracy                           1.00    163027\n",
      "   macro avg       0.95      0.92      0.93    163027\n",
      "weighted avg       1.00      1.00      1.00    163027\n",
      "\n"
     ]
    }
   ],
   "source": [
    "print(classification_report(y_test_classes, y_predicted_classes_rfe))"
   ]
  },
  {
   "cell_type": "code",
   "execution_count": 320,
   "metadata": {},
   "outputs": [
    {
     "data": {
      "image/png": "[encoded data removed]",
      "text/plain": [
       "<Figure size 288x288 with 2 Axes>"
      ]
     },
     "metadata": {
      "needs_background": "light"
     },
     "output_type": "display_data"
    }
   ],
   "source": [
    "pl.matshow(confusion_matrix(y_test_classes, y_predicted_classes))\n",
    "pl.colorbar()\n",
    "pl.show()"
   ]
  },
  {
   "cell_type": "markdown",
   "metadata": {},
   "source": [
    "Rezultati koje daje matrica konfuzije i izvestaj klasifikovanja su zadovoljavajuci. Pogledajmo na kojim klasama model gresi."
   ]
  },
  {
   "cell_type": "code",
   "execution_count": 322,
   "metadata": {},
   "outputs": [
    {
     "data": {
      "text/plain": [
       "128"
      ]
     },
     "execution_count": 322,
     "metadata": {},
     "output_type": "execute_result"
    }
   ],
   "source": [
    "cm_rfe[11][4]"
   ]
  },
  {
   "cell_type": "code",
   "execution_count": 323,
   "metadata": {},
   "outputs": [
    {
     "data": {
      "text/plain": [
       "'warezclient.'"
      ]
     },
     "execution_count": 323,
     "metadata": {},
     "output_type": "execute_result"
    }
   ],
   "source": [
    "d[11]"
   ]
  },
  {
   "cell_type": "code",
   "execution_count": 324,
   "metadata": {},
   "outputs": [
    {
     "data": {
      "text/plain": [
       "'normal.'"
      ]
     },
     "execution_count": 324,
     "metadata": {},
     "output_type": "execute_result"
    }
   ],
   "source": [
    "d[4]"
   ]
  },
  {
   "cell_type": "markdown",
   "metadata": {},
   "source": [
    "128 instanci koje pripadaju napadu 'warezclient.' model je klasifikovao kao normalnu konekciju."
   ]
  },
  {
   "cell_type": "code",
   "execution_count": 325,
   "metadata": {},
   "outputs": [
    {
     "data": {
      "text/plain": [
       "26"
      ]
     },
     "execution_count": 325,
     "metadata": {},
     "output_type": "execute_result"
    }
   ],
   "source": [
    "cm_rfe[1][3]"
   ]
  },
  {
   "cell_type": "code",
   "execution_count": 326,
   "metadata": {},
   "outputs": [
    {
     "data": {
      "text/plain": [
       "'ipsweep.'"
      ]
     },
     "execution_count": 326,
     "metadata": {},
     "output_type": "execute_result"
    }
   ],
   "source": [
    "d[1]"
   ]
  },
  {
   "cell_type": "code",
   "execution_count": 327,
   "metadata": {},
   "outputs": [
    {
     "data": {
      "text/plain": [
       "'nmap.'"
      ]
     },
     "execution_count": 327,
     "metadata": {},
     "output_type": "execute_result"
    }
   ],
   "source": [
    "d[3]"
   ]
  },
  {
   "cell_type": "markdown",
   "metadata": {},
   "source": [
    "26 instanci koje pripadaju napadu 'ipsweep.' model je klasifikovao kao napad 'nmap.'."
   ]
  },
  {
   "cell_type": "code",
   "execution_count": 328,
   "metadata": {},
   "outputs": [
    {
     "data": {
      "text/plain": [
       "19"
      ]
     },
     "execution_count": 328,
     "metadata": {},
     "output_type": "execute_result"
    }
   ],
   "source": [
    "cm_rfe[5][4]"
   ]
  },
  {
   "cell_type": "code",
   "execution_count": 329,
   "metadata": {},
   "outputs": [
    {
     "data": {
      "text/plain": [
       "'other_attacks.'"
      ]
     },
     "execution_count": 329,
     "metadata": {},
     "output_type": "execute_result"
    }
   ],
   "source": [
    "d[5]"
   ]
  },
  {
   "cell_type": "markdown",
   "metadata": {},
   "source": [
    "19 instanci koje pripadaju napadu 'other_attacks.' model je klasifovao kao normalnu konekciju."
   ]
  },
  {
   "cell_type": "code",
   "execution_count": 330,
   "metadata": {},
   "outputs": [
    {
     "data": {
      "text/plain": [
       "17"
      ]
     },
     "execution_count": 330,
     "metadata": {},
     "output_type": "execute_result"
    }
   ],
   "source": [
    "cm_rfe[9][4]"
   ]
  },
  {
   "cell_type": "code",
   "execution_count": 331,
   "metadata": {},
   "outputs": [
    {
     "data": {
      "text/plain": [
       "'smurf.'"
      ]
     },
     "execution_count": 331,
     "metadata": {},
     "output_type": "execute_result"
    }
   ],
   "source": [
    "d[9]"
   ]
  },
  {
   "cell_type": "markdown",
   "metadata": {},
   "source": [
    "17 instanci koje pripadaju napadu 'smurf.' model je klasifikovao kao normalnu konekciju."
   ]
  },
  {
   "cell_type": "markdown",
   "metadata": {},
   "source": [
    "Mozemo primetiti da je u svakom modelu najvise gresaka bilo zbog mesanja normalne konekcije i warezclient napada."
   ]
  },
  {
   "cell_type": "code",
   "execution_count": null,
   "metadata": {},
   "outputs": [],
   "source": []
  }
 ],
 "metadata": {
  "kernelspec": {
   "display_name": "Python 3",
   "language": "python",
   "name": "python3"
  },
  "language_info": {
   "codemirror_mode": {
    "name": "ipython",
    "version": 3
   },
   "file_extension": ".py",
   "mimetype": "text/x-python",
   "name": "python",
   "nbconvert_exporter": "python",
   "pygments_lexer": "ipython3",
   "version": "3.7.7"
  }
 },
 "nbformat": 4,
 "nbformat_minor": 4
}
