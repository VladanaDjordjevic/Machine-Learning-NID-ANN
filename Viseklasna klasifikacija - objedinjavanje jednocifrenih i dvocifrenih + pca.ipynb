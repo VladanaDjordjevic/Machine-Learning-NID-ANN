{
 "cells": [
  {
   "cell_type": "markdown",
   "metadata": {},
   "source": [
    "# Viseklasna klasifikacija uz objedinjavanje jednocifrenih i dvocifrenih klasa u jednu i primenu PCA"
   ]
  },
  {
   "cell_type": "code",
   "execution_count": 1,
   "metadata": {},
   "outputs": [
    {
     "name": "stderr",
     "output_type": "stream",
     "text": [
      "Using TensorFlow backend.\n"
     ]
    }
   ],
   "source": [
    "import numpy as np\n",
    "import pandas as pd\n",
    "from tensorflow import keras\n",
    "\n",
    "import tensorflow as tf\n",
    "\n",
    "from keras.models import Sequential\n",
    "from keras.layers import Dense\n",
    "from keras.optimizers import Adam\n",
    "from keras import losses, optimizers\n",
    "\n",
    "from matplotlib import pyplot as plt\n",
    "\n",
    "from sklearn import preprocessing\n",
    "from sklearn import datasets\n",
    "from sklearn import model_selection\n",
    "\n",
    "from sklearn.decomposition import PCA\n",
    "\n",
    "np.random.seed(10)\n",
    "\n",
    "import category_encoders as ce\n",
    "\n",
    "from keras.callbacks import TensorBoard\n",
    "from sklearn.metrics import confusion_matrix, classification_report"
   ]
  },
  {
   "cell_type": "code",
   "execution_count": 2,
   "metadata": {},
   "outputs": [
    {
     "data": {
      "text/html": [
       "<div>\n",
       "<style scoped>\n",
       "    .dataframe tbody tr th:only-of-type {\n",
       "        vertical-align: middle;\n",
       "    }\n",
       "\n",
       "    .dataframe tbody tr th {\n",
       "        vertical-align: top;\n",
       "    }\n",
       "\n",
       "    .dataframe thead th {\n",
       "        text-align: right;\n",
       "    }\n",
       "</style>\n",
       "<table border=\"1\" class=\"dataframe\">\n",
       "  <thead>\n",
       "    <tr style=\"text-align: right;\">\n",
       "      <th></th>\n",
       "      <th>duration</th>\n",
       "      <th>protocol_type</th>\n",
       "      <th>service</th>\n",
       "      <th>flag</th>\n",
       "      <th>src_bytes</th>\n",
       "      <th>dst_bytes</th>\n",
       "      <th>land</th>\n",
       "      <th>wrong_fragment</th>\n",
       "      <th>urgent</th>\n",
       "      <th>hot</th>\n",
       "      <th>...</th>\n",
       "      <th>dst_host_srv_count</th>\n",
       "      <th>dst_host_same_srv_rate</th>\n",
       "      <th>dst_host_diff_srv_rate</th>\n",
       "      <th>dst_host_same_src_port_rate</th>\n",
       "      <th>dst_host_srv_diff_host_rate</th>\n",
       "      <th>dst_host_serror_rate</th>\n",
       "      <th>dst_host_srv_serror_rate</th>\n",
       "      <th>dst_host_rerror_rate</th>\n",
       "      <th>dst_host_srv_rerror_rate</th>\n",
       "      <th>class</th>\n",
       "    </tr>\n",
       "  </thead>\n",
       "  <tbody>\n",
       "    <tr>\n",
       "      <th>0</th>\n",
       "      <td>0</td>\n",
       "      <td>tcp</td>\n",
       "      <td>http</td>\n",
       "      <td>SF</td>\n",
       "      <td>181</td>\n",
       "      <td>5450</td>\n",
       "      <td>0</td>\n",
       "      <td>0</td>\n",
       "      <td>0</td>\n",
       "      <td>0</td>\n",
       "      <td>...</td>\n",
       "      <td>9</td>\n",
       "      <td>1.0</td>\n",
       "      <td>0.0</td>\n",
       "      <td>0.11</td>\n",
       "      <td>0.0</td>\n",
       "      <td>0.0</td>\n",
       "      <td>0.0</td>\n",
       "      <td>0.0</td>\n",
       "      <td>0.0</td>\n",
       "      <td>normal.</td>\n",
       "    </tr>\n",
       "    <tr>\n",
       "      <th>1</th>\n",
       "      <td>0</td>\n",
       "      <td>tcp</td>\n",
       "      <td>http</td>\n",
       "      <td>SF</td>\n",
       "      <td>239</td>\n",
       "      <td>486</td>\n",
       "      <td>0</td>\n",
       "      <td>0</td>\n",
       "      <td>0</td>\n",
       "      <td>0</td>\n",
       "      <td>...</td>\n",
       "      <td>19</td>\n",
       "      <td>1.0</td>\n",
       "      <td>0.0</td>\n",
       "      <td>0.05</td>\n",
       "      <td>0.0</td>\n",
       "      <td>0.0</td>\n",
       "      <td>0.0</td>\n",
       "      <td>0.0</td>\n",
       "      <td>0.0</td>\n",
       "      <td>normal.</td>\n",
       "    </tr>\n",
       "    <tr>\n",
       "      <th>2</th>\n",
       "      <td>0</td>\n",
       "      <td>tcp</td>\n",
       "      <td>http</td>\n",
       "      <td>SF</td>\n",
       "      <td>235</td>\n",
       "      <td>1337</td>\n",
       "      <td>0</td>\n",
       "      <td>0</td>\n",
       "      <td>0</td>\n",
       "      <td>0</td>\n",
       "      <td>...</td>\n",
       "      <td>29</td>\n",
       "      <td>1.0</td>\n",
       "      <td>0.0</td>\n",
       "      <td>0.03</td>\n",
       "      <td>0.0</td>\n",
       "      <td>0.0</td>\n",
       "      <td>0.0</td>\n",
       "      <td>0.0</td>\n",
       "      <td>0.0</td>\n",
       "      <td>normal.</td>\n",
       "    </tr>\n",
       "    <tr>\n",
       "      <th>3</th>\n",
       "      <td>0</td>\n",
       "      <td>tcp</td>\n",
       "      <td>http</td>\n",
       "      <td>SF</td>\n",
       "      <td>219</td>\n",
       "      <td>1337</td>\n",
       "      <td>0</td>\n",
       "      <td>0</td>\n",
       "      <td>0</td>\n",
       "      <td>0</td>\n",
       "      <td>...</td>\n",
       "      <td>39</td>\n",
       "      <td>1.0</td>\n",
       "      <td>0.0</td>\n",
       "      <td>0.03</td>\n",
       "      <td>0.0</td>\n",
       "      <td>0.0</td>\n",
       "      <td>0.0</td>\n",
       "      <td>0.0</td>\n",
       "      <td>0.0</td>\n",
       "      <td>normal.</td>\n",
       "    </tr>\n",
       "    <tr>\n",
       "      <th>4</th>\n",
       "      <td>0</td>\n",
       "      <td>tcp</td>\n",
       "      <td>http</td>\n",
       "      <td>SF</td>\n",
       "      <td>217</td>\n",
       "      <td>2032</td>\n",
       "      <td>0</td>\n",
       "      <td>0</td>\n",
       "      <td>0</td>\n",
       "      <td>0</td>\n",
       "      <td>...</td>\n",
       "      <td>49</td>\n",
       "      <td>1.0</td>\n",
       "      <td>0.0</td>\n",
       "      <td>0.02</td>\n",
       "      <td>0.0</td>\n",
       "      <td>0.0</td>\n",
       "      <td>0.0</td>\n",
       "      <td>0.0</td>\n",
       "      <td>0.0</td>\n",
       "      <td>normal.</td>\n",
       "    </tr>\n",
       "  </tbody>\n",
       "</table>\n",
       "<p>5 rows × 42 columns</p>\n",
       "</div>"
      ],
      "text/plain": [
       "   duration protocol_type service flag  src_bytes  dst_bytes  land  \\\n",
       "0         0           tcp    http   SF        181       5450     0   \n",
       "1         0           tcp    http   SF        239        486     0   \n",
       "2         0           tcp    http   SF        235       1337     0   \n",
       "3         0           tcp    http   SF        219       1337     0   \n",
       "4         0           tcp    http   SF        217       2032     0   \n",
       "\n",
       "   wrong_fragment  urgent  hot  ...  dst_host_srv_count  \\\n",
       "0               0       0    0  ...                   9   \n",
       "1               0       0    0  ...                  19   \n",
       "2               0       0    0  ...                  29   \n",
       "3               0       0    0  ...                  39   \n",
       "4               0       0    0  ...                  49   \n",
       "\n",
       "   dst_host_same_srv_rate  dst_host_diff_srv_rate  \\\n",
       "0                     1.0                     0.0   \n",
       "1                     1.0                     0.0   \n",
       "2                     1.0                     0.0   \n",
       "3                     1.0                     0.0   \n",
       "4                     1.0                     0.0   \n",
       "\n",
       "   dst_host_same_src_port_rate  dst_host_srv_diff_host_rate  \\\n",
       "0                         0.11                          0.0   \n",
       "1                         0.05                          0.0   \n",
       "2                         0.03                          0.0   \n",
       "3                         0.03                          0.0   \n",
       "4                         0.02                          0.0   \n",
       "\n",
       "   dst_host_serror_rate  dst_host_srv_serror_rate  dst_host_rerror_rate  \\\n",
       "0                   0.0                       0.0                   0.0   \n",
       "1                   0.0                       0.0                   0.0   \n",
       "2                   0.0                       0.0                   0.0   \n",
       "3                   0.0                       0.0                   0.0   \n",
       "4                   0.0                       0.0                   0.0   \n",
       "\n",
       "   dst_host_srv_rerror_rate    class  \n",
       "0                       0.0  normal.  \n",
       "1                       0.0  normal.  \n",
       "2                       0.0  normal.  \n",
       "3                       0.0  normal.  \n",
       "4                       0.0  normal.  \n",
       "\n",
       "[5 rows x 42 columns]"
      ]
     },
     "execution_count": 2,
     "metadata": {},
     "output_type": "execute_result"
    }
   ],
   "source": [
    "# Ucitavanje podataka iz skupa sa imenima klasa\n",
    "data = pd.read_csv('kddcup.csv.data_10_percent_corrected')\n",
    "\n",
    "data.head()"
   ]
  },
  {
   "cell_type": "code",
   "execution_count": 3,
   "metadata": {},
   "outputs": [],
   "source": [
    "data.drop(columns = ['num_outbound_cmds', 'is_host_login'], axis = 1, inplace = True)"
   ]
  },
  {
   "cell_type": "code",
   "execution_count": 4,
   "metadata": {},
   "outputs": [],
   "source": [
    "y = data['class']"
   ]
  },
  {
   "cell_type": "markdown",
   "metadata": {},
   "source": [
    "Klase sa jednocifrenim i dvocifrenim brojem instanci objedinjujemo u jednu klasu pod nazivom 'other_attacks'. Koliko koja klasa ima instanci se moze videti u svesci Provera reprezentativnosti uzorka + informacije o podacima."
   ]
  },
  {
   "cell_type": "code",
   "execution_count": 6,
   "metadata": {},
   "outputs": [
    {
     "data": {
      "text/plain": [
       "179"
      ]
     },
     "execution_count": 6,
     "metadata": {},
     "output_type": "execute_result"
    }
   ],
   "source": [
    "y.loc[y == 'spy.'] = 'other_attacks.'\n",
    "\n",
    "y.loc[y == 'perl.'] = 'other_attacks.'\n",
    "\n",
    "y.loc[y == 'phf.'] = 'other_attacks.'\n",
    "\n",
    "y.loc[y == 'multihop.'] = 'other_attacks.'\n",
    "\n",
    "y.loc[y == 'ftp_write.'] = 'other_attacks.'\n",
    "\n",
    "y.loc[y == 'loadmodule.'] = 'other_attacks.'\n",
    "\n",
    "y.loc[y == 'rootkit.'] = 'other_attacks.'\n",
    "\n",
    "y.loc[y == 'imap.'] = 'other_attacks.'\n",
    "\n",
    "y.loc[y == 'warezmaster.'] = 'other_attacks.'\n",
    "\n",
    "y.loc[y == 'land.'] = 'other_attacks.'\n",
    "\n",
    "y.loc[y == 'buffer_overflow.'] = 'other_attacks.'\n",
    "\n",
    "y.loc[y == 'guess_passwd.'] = 'other_attacks.'\n",
    "\n",
    "len(np.where(y == 'other_attacks.')[0])"
   ]
  },
  {
   "cell_type": "code",
   "execution_count": 7,
   "metadata": {},
   "outputs": [
    {
     "data": {
      "text/plain": [
       "12"
      ]
     },
     "execution_count": 7,
     "metadata": {},
     "output_type": "execute_result"
    }
   ],
   "source": [
    "y = y.astype('category')\n",
    "\n",
    "y = y.cat.codes\n",
    "\n",
    "len(np.unique(y))"
   ]
  },
  {
   "cell_type": "code",
   "execution_count": 8,
   "metadata": {},
   "outputs": [],
   "source": [
    "encoder = ce.BinaryEncoder(data, cols = ['protocol_type', 'service', 'flag'])\n",
    "X = encoder.fit_transform(data)\n",
    "\n",
    "X = X.drop(columns = ['class'])"
   ]
  },
  {
   "cell_type": "code",
   "execution_count": 9,
   "metadata": {},
   "outputs": [],
   "source": [
    "X_train, X_test, y_train, y_test = model_selection.train_test_split(X, y, test_size=0.33, stratify=y, random_state=7)\n",
    "\n",
    "y_train = keras.utils.to_categorical(y_train)\n",
    "y_test = keras.utils.to_categorical(y_test)"
   ]
  },
  {
   "cell_type": "code",
   "execution_count": 10,
   "metadata": {},
   "outputs": [],
   "source": [
    "scaler = preprocessing.StandardScaler()\n",
    "scaler.fit(X_train)\n",
    "X_train = scaler.transform(X_train)\n",
    "X_test = scaler.transform(X_test)\n"
   ]
  },
  {
   "cell_type": "code",
   "execution_count": 11,
   "metadata": {},
   "outputs": [],
   "source": [
    "pca = PCA(n_components=15)\n",
    "pca.fit(X_train, y_train)\n",
    "X_train_pca = pca.transform(X_train)\n",
    "X_test_pca = pca.transform(X_test)"
   ]
  },
  {
   "cell_type": "code",
   "execution_count": 12,
   "metadata": {},
   "outputs": [],
   "source": [
    "model = Sequential()\n",
    "model.add(Dense(units=150, input_dim=X_train_pca.shape[1], activation='relu'))\n",
    "model.add(Dense(units=50, activation='relu'))\n",
    "model.add(Dense(units=12, activation='softmax'))\n",
    "\n",
    "model.compile(optimizers.Adam(learning_rate = 0.0001), loss=losses.CategoricalCrossentropy(), metrics=['accuracy'])"
   ]
  },
  {
   "cell_type": "code",
   "execution_count": 13,
   "metadata": {},
   "outputs": [
    {
     "name": "stdout",
     "output_type": "stream",
     "text": [
      "Epoch 1/30\n",
      "330994/330994 [==============================] - 43s 129us/step - loss: 0.2105 - accuracy: 0.9730\n",
      "Epoch 2/30\n",
      "330994/330994 [==============================] - 39s 117us/step - loss: 0.0191 - accuracy: 0.9955\n",
      "Epoch 3/30\n",
      "330994/330994 [==============================] - 40s 120us/step - loss: 0.0122 - accuracy: 0.9968\n",
      "Epoch 4/30\n",
      "330994/330994 [==============================] - 44s 134us/step - loss: 0.0099 - accuracy: 0.9973\n",
      "Epoch 5/30\n",
      "330994/330994 [==============================] - 45s 136us/step - loss: 0.0090 - accuracy: 0.9976\n",
      "Epoch 6/30\n",
      "330994/330994 [==============================] - 46s 139us/step - loss: 0.0081 - accuracy: 0.9978\n",
      "Epoch 7/30\n",
      "330994/330994 [==============================] - 45s 136us/step - loss: 0.0075 - accuracy: 0.9979\n",
      "Epoch 8/30\n",
      "330994/330994 [==============================] - 47s 143us/step - loss: 0.0069 - accuracy: 0.9981\n",
      "Epoch 9/30\n",
      "330994/330994 [==============================] - 44s 134us/step - loss: 0.0065 - accuracy: 0.9982\n",
      "Epoch 10/30\n",
      "330994/330994 [==============================] - 46s 138us/step - loss: 0.0063 - accuracy: 0.9983\n",
      "Epoch 11/30\n",
      "330994/330994 [==============================] - 47s 142us/step - loss: 0.0060 - accuracy: 0.9984\n",
      "Epoch 12/30\n",
      "330994/330994 [==============================] - 48s 144us/step - loss: 0.0055 - accuracy: 0.9985\n",
      "Epoch 13/30\n",
      "330994/330994 [==============================] - 45s 137us/step - loss: 0.0055 - accuracy: 0.9986\n",
      "Epoch 14/30\n",
      "330994/330994 [==============================] - 48s 144us/step - loss: 0.0053 - accuracy: 0.9986\n",
      "Epoch 15/30\n",
      "330994/330994 [==============================] - 45s 135us/step - loss: 0.0051 - accuracy: 0.9987\n",
      "Epoch 16/30\n",
      "330994/330994 [==============================] - 46s 138us/step - loss: 0.0049 - accuracy: 0.9987\n",
      "Epoch 17/30\n",
      "330994/330994 [==============================] - 45s 135us/step - loss: 0.0049 - accuracy: 0.9988\n",
      "Epoch 18/30\n",
      "330994/330994 [==============================] - 44s 132us/step - loss: 0.0047 - accuracy: 0.9988\n",
      "Epoch 19/30\n",
      "330994/330994 [==============================] - 46s 139us/step - loss: 0.0045 - accuracy: 0.9989\n",
      "Epoch 20/30\n",
      "330994/330994 [==============================] - 47s 143us/step - loss: 0.0044 - accuracy: 0.9989\n",
      "Epoch 21/30\n",
      "330994/330994 [==============================] - 46s 139us/step - loss: 0.0045 - accuracy: 0.9989\n",
      "Epoch 22/30\n",
      "330994/330994 [==============================] - 48s 146us/step - loss: 0.0043 - accuracy: 0.9989\n",
      "Epoch 23/30\n",
      "330994/330994 [==============================] - 43s 129us/step - loss: 0.0042 - accuracy: 0.9990\n",
      "Epoch 24/30\n",
      "330994/330994 [==============================] - 45s 137us/step - loss: 0.0041 - accuracy: 0.9990\n",
      "Epoch 25/30\n",
      "330994/330994 [==============================] - 45s 135us/step - loss: 0.0041 - accuracy: 0.9990\n",
      "Epoch 26/30\n",
      "330994/330994 [==============================] - 46s 139us/step - loss: 0.0040 - accuracy: 0.9991\n",
      "Epoch 27/30\n",
      "330994/330994 [==============================] - 43s 130us/step - loss: 0.0038 - accuracy: 0.9991\n",
      "Epoch 28/30\n",
      "330994/330994 [==============================] - 46s 138us/step - loss: 0.0037 - accuracy: 0.9991\n",
      "Epoch 29/30\n",
      "330994/330994 [==============================] - 47s 143us/step - loss: 0.0037 - accuracy: 0.9991\n",
      "Epoch 30/30\n",
      "330994/330994 [==============================] - 49s 147us/step - loss: 0.0036 - accuracy: 0.9991\n"
     ]
    }
   ],
   "source": [
    "batch_size = 128\n",
    "epochs = 30\n",
    "\n",
    "history = model.fit(X_train_pca, y_train, batch_size=batch_size, epochs=epochs, verbose=1)\n"
   ]
  },
  {
   "cell_type": "code",
   "execution_count": 14,
   "metadata": {},
   "outputs": [
    {
     "name": "stdout",
     "output_type": "stream",
     "text": [
      "163027/163027 [==============================] - 31s 192us/step\n",
      "Test loss: 0.004013982517722109\n",
      "Test accuracy: 0.9988774657249451\n"
     ]
    }
   ],
   "source": [
    "score = model.evaluate(X_test_pca, y_test)\n",
    "print('Test loss:', score[0])\n",
    "print('Test accuracy:', score[1])\n"
   ]
  },
  {
   "cell_type": "code",
   "execution_count": 15,
   "metadata": {},
   "outputs": [
    {
     "data": {
      "image/png": "[encoded data removed]",
      "text/plain": [
       "<Figure size 432x288 with 1 Axes>"
      ]
     },
     "metadata": {
      "needs_background": "light"
     },
     "output_type": "display_data"
    }
   ],
   "source": [
    "epochs = history.epoch\n",
    "\n",
    "loss = history.history['loss']\n",
    "\n",
    "plt.title('Loss')\n",
    "plt.xlabel('Epochs')\n",
    "plt.ylabel('loss')\n",
    "plt.plot(epochs, loss, c='red')\n",
    "plt.show()"
   ]
  },
  {
   "cell_type": "code",
   "execution_count": 16,
   "metadata": {},
   "outputs": [
    {
     "data": {
      "image/png": "[encoded data removed]",
      "text/plain": [
       "<Figure size 432x288 with 1 Axes>"
      ]
     },
     "metadata": {
      "needs_background": "light"
     },
     "output_type": "display_data"
    }
   ],
   "source": [
    "acc = history.history['accuracy']\n",
    "\n",
    "plt.title('Accuracy')\n",
    "plt.xlabel('epochs')\n",
    "plt.ylabel('acccuracy')\n",
    "plt.plot(epochs, acc, c='red')\n",
    "plt.show()"
   ]
  },
  {
   "cell_type": "code",
   "execution_count": 17,
   "metadata": {},
   "outputs": [],
   "source": [
    "y_predicted = model.predict(X_test_pca)\n",
    "y_predicted_classes = np.argmax(y_predicted, axis = 1)\n",
    "\n",
    "y_test_classes = np.argmax(y_test, axis = 1)\n"
   ]
  },
  {
   "cell_type": "code",
   "execution_count": 18,
   "metadata": {},
   "outputs": [
    {
     "name": "stdout",
     "output_type": "stream",
     "text": [
      "[[  725     0     0     0     2     0     0     0     0     0     0     0]\n",
      " [    0   405     0     2     4     0     0     1     0     0     0     0]\n",
      " [    0     0 35376     0     0     0     0     0     0     0     0     0]\n",
      " [    0     1     0    64    11     0     0     0     0     0     0     0]\n",
      " [   15     8     6     1 32054     3     0     1     0     1     0    13]\n",
      " [    0     0     0     0    16    43     0     0     0     0     0     0]\n",
      " [    0     0     0     0     3     0    84     0     0     0     0     0]\n",
      " [    0     0     3     0     4     0     0   333     3     0     0     0]\n",
      " [    0     0     0     0     7     0     0     6   511     0     0     0]\n",
      " [    0     0     0     0     4     0     0     0     0 92657     0     0]\n",
      " [    0     0     0     0     0     0     0     0     0     0   323     0]\n",
      " [    0     1     0     1    66     0     0     0     0     0     0   269]]\n"
     ]
    }
   ],
   "source": [
    "print(confusion_matrix(y_test_classes, y_predicted_classes))\n"
   ]
  },
  {
   "cell_type": "code",
   "execution_count": 19,
   "metadata": {},
   "outputs": [
    {
     "name": "stdout",
     "output_type": "stream",
     "text": [
      "              precision    recall  f1-score   support\n",
      "\n",
      "           0       0.98      1.00      0.99       727\n",
      "           1       0.98      0.98      0.98       412\n",
      "           2       1.00      1.00      1.00     35376\n",
      "           3       0.94      0.84      0.89        76\n",
      "           4       1.00      1.00      1.00     32102\n",
      "           5       0.93      0.73      0.82        59\n",
      "           6       1.00      0.97      0.98        87\n",
      "           7       0.98      0.97      0.97       343\n",
      "           8       0.99      0.98      0.98       524\n",
      "           9       1.00      1.00      1.00     92661\n",
      "          10       1.00      1.00      1.00       323\n",
      "          11       0.95      0.80      0.87       337\n",
      "\n",
      "    accuracy                           1.00    163027\n",
      "   macro avg       0.98      0.94      0.96    163027\n",
      "weighted avg       1.00      1.00      1.00    163027\n",
      "\n"
     ]
    }
   ],
   "source": [
    "print(classification_report(y_test_classes, y_predicted_classes))\n"
   ]
  },
  {
   "cell_type": "code",
   "execution_count": null,
   "metadata": {},
   "outputs": [],
   "source": []
  }
 ],
 "metadata": {
  "kernelspec": {
   "display_name": "Python 3",
   "language": "python",
   "name": "python3"
  },
  "language_info": {
   "codemirror_mode": {
    "name": "ipython",
    "version": 3
   },
   "file_extension": ".py",
   "mimetype": "text/x-python",
   "name": "python",
   "nbconvert_exporter": "python",
   "pygments_lexer": "ipython3",
   "version": "3.7.6"
  }
 },
 "nbformat": 4,
 "nbformat_minor": 4
}
